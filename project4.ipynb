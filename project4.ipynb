{
 "cells": [
  {
   "cell_type": "code",
   "execution_count": 1,
   "metadata": {
    "tags": []
   },
   "outputs": [],
   "source": [
    "import pandas as pd\n",
    "import numpy as np\n",
    "import seaborn as sns\n",
    "import matplotlib.pyplot as plt\n",
    "import matplotlib as mpl\n",
    "import sklearn\n",
    "import aiohttp"
   ]
  },
  {
   "cell_type": "code",
   "execution_count": 2,
   "metadata": {
    "collapsed": false,
    "jupyter": {
     "outputs_hidden": false
    },
    "pycharm": {
     "name": "#%%\n"
    }
   },
   "outputs": [],
   "source": [
    "import discord\n",
    "import logging\n",
    "\n",
    "logger = logging.getLogger('discord')\n",
    "logger.setLevel(logging.DEBUG)\n",
    "handler = logging.FileHandler(filename='discord.log', encoding='utf-8', mode='w')\n",
    "handler.setFormatter(logging.Formatter('%(asctime)s:%(levelname)s:%(name)s: %(message)s'))\n",
    "logger.addHandler(handler)"
   ]
  },
  {
   "cell_type": "code",
   "execution_count": 3,
   "metadata": {
    "collapsed": false,
    "pycharm": {
     "name": "#%%\n"
    }
   },
   "outputs": [
    {
     "name": "stdout",
     "output_type": "stream",
     "text": [
      "VersionInfo(major=1, minor=7, micro=3, releaselevel='final', serial=0)\n"
     ]
    }
   ],
   "source": [
    "print(discord.version_info)\n",
    "lounge_mmr_api_url = 'https://www.mkwlounge.gg/api/ladderplayer.php'"
   ]
  },
  {
   "cell_type": "code",
   "execution_count": 4,
   "metadata": {},
   "outputs": [],
   "source": [
    "def addFilter(url, filter_type, data):\n",
    "    result = url\n",
    "    if len(result) < 1:\n",
    "        return result\n",
    "    if '?' not in result: #URL has no args, prepare is for args\n",
    "        result += '?'\n",
    "    elif result[-1] == '?': #URL is prepared for args already\n",
    "        pass\n",
    "    else: #URL already has args, add to them\n",
    "        result += '&'\n",
    "    \n",
    "    result += filter_type + \"=\"\n",
    "    \n",
    "    if isinstance(data, str):\n",
    "        result += data\n",
    "    elif isinstance(data, list):\n",
    "        result += \",\".join(data)\n",
    "    else:\n",
    "        raise TypeError(\"Filter data is not a string or list of strings.\")\n",
    "    #result = urllib.parse.quote(result)\n",
    "    return result\n"
   ]
  },
  {
   "cell_type": "code",
   "execution_count": 5,
   "metadata": {},
   "outputs": [
    {
     "name": "stdout",
     "output_type": "stream",
     "text": [
      "https://www.mkwlounge.gg/api/ladderplayer.php?ladder_type=rt&player_id=4088\n"
     ]
    }
   ],
   "source": [
    " full_url = addFilter(lounge_mmr_api_url, \"ladder_type\", [\"rt\"])\n",
    " full_url = addFilter(full_url, \"player_id\", [\"4088\"])\n",
    " print(full_url)\n",
    "#  https://www.mkwlounge.gg/api/ladderplayer.php?ladder_type=rt&player_id=1043"
   ]
  },
  {
   "cell_type": "code",
   "execution_count": 6,
   "metadata": {},
   "outputs": [],
   "source": [
    "async def getJSONData(full_url):\n",
    "    try:\n",
    "        async with aiohttp.ClientSession() as session:\n",
    "            async with session.get(full_url) as r:\n",
    "                if r.status == 200:\n",
    "                    js = await r.json()\n",
    "                    return js\n",
    "    except:\n",
    "        return None"
   ]
  },
  {
   "cell_type": "code",
   "execution_count": 10,
   "metadata": {},
   "outputs": [
    {
     "name": "stderr",
     "output_type": "stream",
     "text": [
      "IOPub data rate exceeded.\n",
      "The notebook server will temporarily stop sending output\n",
      "to the client in order to avoid crashing it.\n",
      "To change this limit, set the config variable\n",
      "`--NotebookApp.iopub_data_rate_limit`.\n",
      "\n",
      "Current values:\n",
      "NotebookApp.iopub_data_rate_limit=1000000.0 (bytes/sec)\n",
      "NotebookApp.rate_limit_window=3.0 (secs)\n",
      "\n"
     ]
    }
   ],
   "source": [
    "data = await getJSONData('https://www.mkwlounge.gg/api/ladderplayer.php?ladder_type=rt&all=1')\n",
    "print(data)"
   ]
  },
  {
   "cell_type": "code",
   "execution_count": 9,
   "metadata": {},
   "outputs": [
    {
     "name": "stdout",
     "output_type": "stream",
     "text": [
      "<class 'list'>\n"
     ]
    }
   ],
   "source": [
    "print(type(data['results']))"
   ]
  },
  {
   "cell_type": "code",
   "execution_count": 11,
   "metadata": {},
   "outputs": [
    {
     "data": {
      "text/plain": "   player_id player_name player_country_flag     discord_user_id  base_mmr  \\\n0        260          Az                  jp  188508063995527168     17385   \n1       1207       Kevin                  de  551040312148230144     14234   \n2        290      barney                  no   82852901382258688     15128   \n3       1614  Kasperinos                  us  195336607807700992     14615   \n4       1043         Fox                  un  576472300006670374     15066   \n\n   base_lr  strikes  game_counter  current_mmr  current_lr  ...  \\\n0     7574        2            14        17155       15757  ...   \n1     5817        3            12        14339       15268  ...   \n2     6403        0            16        14495       14979  ...   \n3     6758        2            17        13902       14817  ...   \n4     6480        1            14        13837       14535  ...   \n\n   previous_ranking  previous_percentile      last_event_date  \\\n0                 1              99.9213  2022-04-27 14:37:46   \n1                 2              99.8425  2022-04-28 17:17:25   \n2                 3              99.7638  2022-04-28 19:27:32   \n3                 4              99.6850  2022-04-23 10:01:15   \n4                 5              99.6063  2022-04-27 13:39:15   \n\n   total_events_since_date  since_date          update_date  current_division  \\\n0                       54        None  2022-04-27 14:37:46       Grandmaster   \n1                      127        None  2022-04-28 17:17:25       Grandmaster   \n2                       94        None  2022-04-28 19:27:32            Master   \n3                       92        None  2022-04-23 10:01:15            Master   \n4                       92        None  2022-04-27 13:39:15            Master   \n\n   current_class                                                url  \\\n0        Class X  https://www.mkwlounge.gg/ladder/player.php?pla...   \n1        Class X  https://www.mkwlounge.gg/ladder/player.php?pla...   \n2        Class X  https://www.mkwlounge.gg/ladder/player.php?pla...   \n3        Class X  https://www.mkwlounge.gg/ladder/player.php?pla...   \n4        Class X  https://www.mkwlounge.gg/ladder/player.php?pla...   \n\n                    current_emblem  \n0  https://i.imgur.com/ZV1JMyg.png  \n1  https://i.imgur.com/ZV1JMyg.png  \n2  https://i.imgur.com/BdAQPiE.png  \n3  https://i.imgur.com/BdAQPiE.png  \n4  https://i.imgur.com/BdAQPiE.png  \n\n[5 rows x 47 columns]",
      "text/html": "<div>\n<style scoped>\n    .dataframe tbody tr th:only-of-type {\n        vertical-align: middle;\n    }\n\n    .dataframe tbody tr th {\n        vertical-align: top;\n    }\n\n    .dataframe thead th {\n        text-align: right;\n    }\n</style>\n<table border=\"1\" class=\"dataframe\">\n  <thead>\n    <tr style=\"text-align: right;\">\n      <th></th>\n      <th>player_id</th>\n      <th>player_name</th>\n      <th>player_country_flag</th>\n      <th>discord_user_id</th>\n      <th>base_mmr</th>\n      <th>base_lr</th>\n      <th>strikes</th>\n      <th>game_counter</th>\n      <th>current_mmr</th>\n      <th>current_lr</th>\n      <th>...</th>\n      <th>previous_ranking</th>\n      <th>previous_percentile</th>\n      <th>last_event_date</th>\n      <th>total_events_since_date</th>\n      <th>since_date</th>\n      <th>update_date</th>\n      <th>current_division</th>\n      <th>current_class</th>\n      <th>url</th>\n      <th>current_emblem</th>\n    </tr>\n  </thead>\n  <tbody>\n    <tr>\n      <th>0</th>\n      <td>260</td>\n      <td>Az</td>\n      <td>jp</td>\n      <td>188508063995527168</td>\n      <td>17385</td>\n      <td>7574</td>\n      <td>2</td>\n      <td>14</td>\n      <td>17155</td>\n      <td>15757</td>\n      <td>...</td>\n      <td>1</td>\n      <td>99.9213</td>\n      <td>2022-04-27 14:37:46</td>\n      <td>54</td>\n      <td>None</td>\n      <td>2022-04-27 14:37:46</td>\n      <td>Grandmaster</td>\n      <td>Class X</td>\n      <td>https://www.mkwlounge.gg/ladder/player.php?pla...</td>\n      <td>https://i.imgur.com/ZV1JMyg.png</td>\n    </tr>\n    <tr>\n      <th>1</th>\n      <td>1207</td>\n      <td>Kevin</td>\n      <td>de</td>\n      <td>551040312148230144</td>\n      <td>14234</td>\n      <td>5817</td>\n      <td>3</td>\n      <td>12</td>\n      <td>14339</td>\n      <td>15268</td>\n      <td>...</td>\n      <td>2</td>\n      <td>99.8425</td>\n      <td>2022-04-28 17:17:25</td>\n      <td>127</td>\n      <td>None</td>\n      <td>2022-04-28 17:17:25</td>\n      <td>Grandmaster</td>\n      <td>Class X</td>\n      <td>https://www.mkwlounge.gg/ladder/player.php?pla...</td>\n      <td>https://i.imgur.com/ZV1JMyg.png</td>\n    </tr>\n    <tr>\n      <th>2</th>\n      <td>290</td>\n      <td>barney</td>\n      <td>no</td>\n      <td>82852901382258688</td>\n      <td>15128</td>\n      <td>6403</td>\n      <td>0</td>\n      <td>16</td>\n      <td>14495</td>\n      <td>14979</td>\n      <td>...</td>\n      <td>3</td>\n      <td>99.7638</td>\n      <td>2022-04-28 19:27:32</td>\n      <td>94</td>\n      <td>None</td>\n      <td>2022-04-28 19:27:32</td>\n      <td>Master</td>\n      <td>Class X</td>\n      <td>https://www.mkwlounge.gg/ladder/player.php?pla...</td>\n      <td>https://i.imgur.com/BdAQPiE.png</td>\n    </tr>\n    <tr>\n      <th>3</th>\n      <td>1614</td>\n      <td>Kasperinos</td>\n      <td>us</td>\n      <td>195336607807700992</td>\n      <td>14615</td>\n      <td>6758</td>\n      <td>2</td>\n      <td>17</td>\n      <td>13902</td>\n      <td>14817</td>\n      <td>...</td>\n      <td>4</td>\n      <td>99.6850</td>\n      <td>2022-04-23 10:01:15</td>\n      <td>92</td>\n      <td>None</td>\n      <td>2022-04-23 10:01:15</td>\n      <td>Master</td>\n      <td>Class X</td>\n      <td>https://www.mkwlounge.gg/ladder/player.php?pla...</td>\n      <td>https://i.imgur.com/BdAQPiE.png</td>\n    </tr>\n    <tr>\n      <th>4</th>\n      <td>1043</td>\n      <td>Fox</td>\n      <td>un</td>\n      <td>576472300006670374</td>\n      <td>15066</td>\n      <td>6480</td>\n      <td>1</td>\n      <td>14</td>\n      <td>13837</td>\n      <td>14535</td>\n      <td>...</td>\n      <td>5</td>\n      <td>99.6063</td>\n      <td>2022-04-27 13:39:15</td>\n      <td>92</td>\n      <td>None</td>\n      <td>2022-04-27 13:39:15</td>\n      <td>Master</td>\n      <td>Class X</td>\n      <td>https://www.mkwlounge.gg/ladder/player.php?pla...</td>\n      <td>https://i.imgur.com/BdAQPiE.png</td>\n    </tr>\n  </tbody>\n</table>\n<p>5 rows × 47 columns</p>\n</div>"
     },
     "execution_count": 11,
     "metadata": {},
     "output_type": "execute_result"
    }
   ],
   "source": [
    "playerdata = pd.DataFrame(data['results'])\n",
    "playerdata.head()"
   ]
  },
  {
   "cell_type": "code",
   "execution_count": null,
   "metadata": {},
   "outputs": [],
   "source": [
    "playerdata.info()"
   ]
  },
  {
   "cell_type": "code",
   "execution_count": null,
   "metadata": {},
   "outputs": [],
   "source": [
    "print(soup.title.name)"
   ]
  }
 ],
 "metadata": {
  "kernelspec": {
   "display_name": "Python 3 (ipykernel)",
   "language": "python",
   "name": "python3"
  },
  "language_info": {
   "codemirror_mode": {
    "name": "ipython",
    "version": 3
   },
   "file_extension": ".py",
   "mimetype": "text/x-python",
   "name": "python",
   "nbconvert_exporter": "python",
   "pygments_lexer": "ipython3",
   "version": "3.9.7"
  }
 },
 "nbformat": 4,
 "nbformat_minor": 4
}