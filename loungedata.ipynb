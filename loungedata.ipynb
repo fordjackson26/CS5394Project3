{
 "cells": [
  {
   "cell_type": "code",
   "execution_count": 1,
   "metadata": {
    "collapsed": true
   },
   "outputs": [],
   "source": [
    "from bs4 import BeautifulSoup as bs\n",
    "import pandas as pd\n",
    "pd.set_option('display.max_colwidth', 500)\n",
    "import time\n",
    "import requests\n",
    "import random\n",
    "import aiohttp"
   ]
  },
  {
   "cell_type": "code",
   "execution_count": 2,
   "outputs": [],
   "source": [
    "async def getJSONData(full_url):\n",
    "    try:\n",
    "        async with aiohttp.ClientSession() as session:\n",
    "            async with session.get(full_url) as r:\n",
    "                if r.status == 200:\n",
    "                    js = await r.json()\n",
    "                    return js\n",
    "    except:\n",
    "        return None\n"
   ],
   "metadata": {
    "collapsed": false,
    "pycharm": {
     "name": "#%%\n"
    }
   }
  },
  {
   "cell_type": "code",
   "execution_count": 3,
   "outputs": [],
   "source": [
    "def getTrackData(player_id):\n",
    "    url = 'https://mkwlounge.gg/ladder/player.php?player_id={}&ladder_id=3'.format(player_id)\n",
    "    # print(url)\n",
    "    playerpage = requests.get(url, timeout=3)\n",
    "    playersoup = bs(playerpage.content)\n",
    "    playertables = playersoup.find_all('table')\n",
    "    dfs = pd.read_html(str(playertables))[3]\n",
    "    return dfs"
   ],
   "metadata": {
    "collapsed": false,
    "pycharm": {
     "name": "#%%\n"
    }
   }
  },
  {
   "cell_type": "code",
   "execution_count": 4,
   "outputs": [],
   "source": [
    "def formatTrackData(df, index):\n",
    "    df.drop(['Std Dev Time', 'Average Points', 'Fastest Time', 'Slowest Time'], axis=1, inplace=True)\n",
    "    melted = df.pivot(index = 'Engine', columns='Track')\n",
    "    melted = melted.drop('Mirror', axis=0, errors='ignore')\n",
    "    melted = melted.drop('100cc', axis=0, errors='ignore')\n",
    "    melted = melted.rename(index={'150cc': index})\n",
    "    return melted"
   ],
   "metadata": {
    "collapsed": false,
    "pycharm": {
     "name": "#%%\n"
    }
   }
  },
  {
   "cell_type": "code",
   "execution_count": 5,
   "outputs": [],
   "source": [
    "upperDict = {'Average Placement':'AP',\n",
    "             'Average Time': 'AT',\n",
    "             'Races': 'R',\n",
    "             'player_id':'player_id'}\n",
    "def renameCols(df):\n",
    "    df.rename(columns=lambda x: upperDict[x], level=0, inplace=True)\n",
    "    df.columns = [' '.join(col).strip() for col in df.columns.values]\n",
    "    df.drop(['AT -','AP -', 'R -'], axis=1, inplace=True)\n",
    "    df.rename(columns=lambda c: c.replace(' (Nintendo)',''), inplace=True)\n",
    "    df.index.name = None\n",
    "    return df"
   ],
   "metadata": {
    "collapsed": false,
    "pycharm": {
     "name": "#%%\n"
    }
   }
  },
  {
   "cell_type": "code",
   "execution_count": 16,
   "outputs": [],
   "source": [
    "async def getPlayerData():\n",
    "    metadata = await getJSONData('https://www.mkwlounge.gg/api/ladderplayer.php?ladder_type=rt&all=1')\n",
    "    playerdata = pd.DataFrame(metadata['results'])\n",
    "    playerdata = playerdata[['player_id','player_name','current_mmr','current_lr','win_percentage','win10_percentage','average_score','average10_score','total_events']]\n",
    "    playerdata = playerdata.loc[playerdata[\"total_events\"]!= 0]\n",
    "    playerdata = playerdata.loc[playerdata[\"current_mmr\"] >= 0]\n",
    "    return playerdata"
   ],
   "metadata": {
    "collapsed": false,
    "pycharm": {
     "name": "#%%\n"
    }
   }
  },
  {
   "cell_type": "code",
   "execution_count": 17,
   "outputs": [
    {
     "name": "stderr",
     "output_type": "stream",
     "text": [
      "C:\\Users\\rford\\AppData\\Local\\Temp/ipykernel_20804/3094203558.py:1: RuntimeWarning: coroutine 'getPlayerData' was never awaited\n",
      "  playerdata = await getPlayerData()\n",
      "RuntimeWarning: Enable tracemalloc to get the object allocation traceback\n"
     ]
    },
    {
     "data": {
      "text/plain": "   player_id player_name  current_mmr  current_lr  win_percentage  \\\n0        260          Az        17155       15757        0.962963   \n1       1207       Kevin        14339       15268        0.769841   \n2        290      barney        14495       14979        0.784946   \n3       1614  Kasperinos        13902       14817        0.758242   \n4       1043         Fox        13837       14535        0.684783   \n\n   win10_percentage  average_score  average10_score  total_events  \n0          1.000000        99.0370          96.1000            54  \n1          0.555556        89.2217          78.7500           127  \n2          0.600000        91.0257          90.7000            94  \n3          0.400000        90.2771          76.9286            92  \n4          0.200000        92.1954          83.9000            92  ",
      "text/html": "<div>\n<style scoped>\n    .dataframe tbody tr th:only-of-type {\n        vertical-align: middle;\n    }\n\n    .dataframe tbody tr th {\n        vertical-align: top;\n    }\n\n    .dataframe thead th {\n        text-align: right;\n    }\n</style>\n<table border=\"1\" class=\"dataframe\">\n  <thead>\n    <tr style=\"text-align: right;\">\n      <th></th>\n      <th>player_id</th>\n      <th>player_name</th>\n      <th>current_mmr</th>\n      <th>current_lr</th>\n      <th>win_percentage</th>\n      <th>win10_percentage</th>\n      <th>average_score</th>\n      <th>average10_score</th>\n      <th>total_events</th>\n    </tr>\n  </thead>\n  <tbody>\n    <tr>\n      <th>0</th>\n      <td>260</td>\n      <td>Az</td>\n      <td>17155</td>\n      <td>15757</td>\n      <td>0.962963</td>\n      <td>1.000000</td>\n      <td>99.0370</td>\n      <td>96.1000</td>\n      <td>54</td>\n    </tr>\n    <tr>\n      <th>1</th>\n      <td>1207</td>\n      <td>Kevin</td>\n      <td>14339</td>\n      <td>15268</td>\n      <td>0.769841</td>\n      <td>0.555556</td>\n      <td>89.2217</td>\n      <td>78.7500</td>\n      <td>127</td>\n    </tr>\n    <tr>\n      <th>2</th>\n      <td>290</td>\n      <td>barney</td>\n      <td>14495</td>\n      <td>14979</td>\n      <td>0.784946</td>\n      <td>0.600000</td>\n      <td>91.0257</td>\n      <td>90.7000</td>\n      <td>94</td>\n    </tr>\n    <tr>\n      <th>3</th>\n      <td>1614</td>\n      <td>Kasperinos</td>\n      <td>13902</td>\n      <td>14817</td>\n      <td>0.758242</td>\n      <td>0.400000</td>\n      <td>90.2771</td>\n      <td>76.9286</td>\n      <td>92</td>\n    </tr>\n    <tr>\n      <th>4</th>\n      <td>1043</td>\n      <td>Fox</td>\n      <td>13837</td>\n      <td>14535</td>\n      <td>0.684783</td>\n      <td>0.200000</td>\n      <td>92.1954</td>\n      <td>83.9000</td>\n      <td>92</td>\n    </tr>\n  </tbody>\n</table>\n</div>"
     },
     "execution_count": 17,
     "metadata": {},
     "output_type": "execute_result"
    }
   ],
   "source": [
    "playerdata = await getPlayerData()\n",
    "playerdata.head()"
   ],
   "metadata": {
    "collapsed": false,
    "pycharm": {
     "name": "#%%\n"
    }
   }
  },
  {
   "cell_type": "code",
   "execution_count": 18,
   "outputs": [
    {
     "data": {
      "text/plain": "  AP DS Delfino Square AP DS Desert Hills AP DS Peach Gardens  \\\n0                  5th                5th                 5th   \n1                  6th                5th                 5th   \n2                  6th                5th                 6th   \n3                  5th                5th                 5th   \n4                  6th                5th                 5th   \n\n  AP DS Yoshi Falls AP GBA Bowser Castle 3 AP GBA Shy Guy Beach  \\\n0               4th                    5th                  3rd   \n1               5th                    5th                  5th   \n2               4th                    5th                  9th   \n3               5th                    5th                  5th   \n4               6th                    5th                  3rd   \n\n  AP GCN DK Mountain AP GCN Mario Circuit AP GCN Peach Beach  \\\n0                5th                  4th                5th   \n1                5th                  6th                6th   \n2                5th                  5th                6th   \n3                5th                  7th                5th   \n4                4th                  6th                6th   \n\n  AP GCN Waluigi Stadium  ... R Wii Luigi Circuit R Wii Maple Treeway  \\\n0                    5th  ...                46.0                59.0   \n1                    6th  ...               146.0               121.0   \n2                    5th  ...                61.0                67.0   \n3                    5th  ...                55.0                43.0   \n4                    5th  ...                58.0                54.0   \n\n  R Wii Mario Circuit R Wii Moo Moo Meadows R Wii Moonview Highway  \\\n0                24.0                  17.0                   97.0   \n1                61.0                  24.0                  217.0   \n2                22.0                  21.0                   87.0   \n3                26.0                  19.0                  102.0   \n4                20.0                  15.0                   62.0   \n\n  R Wii Mushroom Gorge R Wii Rainbow Road R Wii Toad's Factory  \\\n0                128.0               16.0                 39.0   \n1                304.0               36.0                 79.0   \n2                122.0               18.0                 42.0   \n3                104.0                7.0                 36.0   \n4                104.0               13.0                 31.0   \n\n  R Wii Wario's Gold Mine player_id  \n0                    14.0       260  \n1                    54.0      1207  \n2                    34.0       290  \n3                    22.0      1614  \n4                    22.0      1043  \n\n[5 rows x 97 columns]",
      "text/html": "<div>\n<style scoped>\n    .dataframe tbody tr th:only-of-type {\n        vertical-align: middle;\n    }\n\n    .dataframe tbody tr th {\n        vertical-align: top;\n    }\n\n    .dataframe thead th {\n        text-align: right;\n    }\n</style>\n<table border=\"1\" class=\"dataframe\">\n  <thead>\n    <tr style=\"text-align: right;\">\n      <th></th>\n      <th>AP DS Delfino Square</th>\n      <th>AP DS Desert Hills</th>\n      <th>AP DS Peach Gardens</th>\n      <th>AP DS Yoshi Falls</th>\n      <th>AP GBA Bowser Castle 3</th>\n      <th>AP GBA Shy Guy Beach</th>\n      <th>AP GCN DK Mountain</th>\n      <th>AP GCN Mario Circuit</th>\n      <th>AP GCN Peach Beach</th>\n      <th>AP GCN Waluigi Stadium</th>\n      <th>...</th>\n      <th>R Wii Luigi Circuit</th>\n      <th>R Wii Maple Treeway</th>\n      <th>R Wii Mario Circuit</th>\n      <th>R Wii Moo Moo Meadows</th>\n      <th>R Wii Moonview Highway</th>\n      <th>R Wii Mushroom Gorge</th>\n      <th>R Wii Rainbow Road</th>\n      <th>R Wii Toad's Factory</th>\n      <th>R Wii Wario's Gold Mine</th>\n      <th>player_id</th>\n    </tr>\n  </thead>\n  <tbody>\n    <tr>\n      <th>0</th>\n      <td>5th</td>\n      <td>5th</td>\n      <td>5th</td>\n      <td>4th</td>\n      <td>5th</td>\n      <td>3rd</td>\n      <td>5th</td>\n      <td>4th</td>\n      <td>5th</td>\n      <td>5th</td>\n      <td>...</td>\n      <td>46.0</td>\n      <td>59.0</td>\n      <td>24.0</td>\n      <td>17.0</td>\n      <td>97.0</td>\n      <td>128.0</td>\n      <td>16.0</td>\n      <td>39.0</td>\n      <td>14.0</td>\n      <td>260</td>\n    </tr>\n    <tr>\n      <th>1</th>\n      <td>6th</td>\n      <td>5th</td>\n      <td>5th</td>\n      <td>5th</td>\n      <td>5th</td>\n      <td>5th</td>\n      <td>5th</td>\n      <td>6th</td>\n      <td>6th</td>\n      <td>6th</td>\n      <td>...</td>\n      <td>146.0</td>\n      <td>121.0</td>\n      <td>61.0</td>\n      <td>24.0</td>\n      <td>217.0</td>\n      <td>304.0</td>\n      <td>36.0</td>\n      <td>79.0</td>\n      <td>54.0</td>\n      <td>1207</td>\n    </tr>\n    <tr>\n      <th>2</th>\n      <td>6th</td>\n      <td>5th</td>\n      <td>6th</td>\n      <td>4th</td>\n      <td>5th</td>\n      <td>9th</td>\n      <td>5th</td>\n      <td>5th</td>\n      <td>6th</td>\n      <td>5th</td>\n      <td>...</td>\n      <td>61.0</td>\n      <td>67.0</td>\n      <td>22.0</td>\n      <td>21.0</td>\n      <td>87.0</td>\n      <td>122.0</td>\n      <td>18.0</td>\n      <td>42.0</td>\n      <td>34.0</td>\n      <td>290</td>\n    </tr>\n    <tr>\n      <th>3</th>\n      <td>5th</td>\n      <td>5th</td>\n      <td>5th</td>\n      <td>5th</td>\n      <td>5th</td>\n      <td>5th</td>\n      <td>5th</td>\n      <td>7th</td>\n      <td>5th</td>\n      <td>5th</td>\n      <td>...</td>\n      <td>55.0</td>\n      <td>43.0</td>\n      <td>26.0</td>\n      <td>19.0</td>\n      <td>102.0</td>\n      <td>104.0</td>\n      <td>7.0</td>\n      <td>36.0</td>\n      <td>22.0</td>\n      <td>1614</td>\n    </tr>\n    <tr>\n      <th>4</th>\n      <td>6th</td>\n      <td>5th</td>\n      <td>5th</td>\n      <td>6th</td>\n      <td>5th</td>\n      <td>3rd</td>\n      <td>4th</td>\n      <td>6th</td>\n      <td>6th</td>\n      <td>5th</td>\n      <td>...</td>\n      <td>58.0</td>\n      <td>54.0</td>\n      <td>20.0</td>\n      <td>15.0</td>\n      <td>62.0</td>\n      <td>104.0</td>\n      <td>13.0</td>\n      <td>31.0</td>\n      <td>22.0</td>\n      <td>1043</td>\n    </tr>\n  </tbody>\n</table>\n<p>5 rows × 97 columns</p>\n</div>"
     },
     "execution_count": 18,
     "metadata": {},
     "output_type": "execute_result"
    }
   ],
   "source": [
    "\n",
    "\n",
    "dfs = []\n",
    "i =0\n",
    "for index, row in playerdata.iterrows():\n",
    "    trackdata = getTrackData(row['player_id'])\n",
    "    formatData = formatTrackData(trackdata, index)\n",
    "    formatData['player_id'] = row['player_id']\n",
    "    dfs.append(formatData)\n",
    "    # if i %100 == 0:\n",
    "    #     print('working: ' + str(i))\n",
    "    # i = i + 1\n",
    "\n",
    "trackdata = pd.DataFrame().append(dfs)\n",
    "trackdata = renameCols(trackdata)\n",
    "trackdata.head()"
   ],
   "metadata": {
    "collapsed": false,
    "pycharm": {
     "name": "#%%\n"
    }
   }
  },
  {
   "cell_type": "code",
   "execution_count": 20,
   "outputs": [
    {
     "data": {
      "text/plain": "   player_id player_name  current_mmr  current_lr  win_percentage  \\\n0        260          Az        17155       15757        0.962963   \n1       1207       Kevin        14339       15268        0.769841   \n2        290      barney        14495       14979        0.784946   \n3       1614  Kasperinos        13902       14817        0.758242   \n4       1043         Fox        13837       14535        0.684783   \n\n   win10_percentage  average_score  average10_score  total_events  \\\n0          1.000000        99.0370          96.1000            54   \n1          0.555556        89.2217          78.7500           127   \n2          0.600000        91.0257          90.7000            94   \n3          0.400000        90.2771          76.9286            92   \n4          0.200000        92.1954          83.9000            92   \n\n  AP DS Delfino Square  ... R Wii Koopa Cape R Wii Luigi Circuit  \\\n0                  5th  ...             61.0                46.0   \n1                  6th  ...            161.0               146.0   \n2                  6th  ...             94.0                61.0   \n3                  5th  ...             73.0                55.0   \n4                  6th  ...             70.0                58.0   \n\n  R Wii Maple Treeway R Wii Mario Circuit R Wii Moo Moo Meadows  \\\n0                59.0                24.0                  17.0   \n1               121.0                61.0                  24.0   \n2                67.0                22.0                  21.0   \n3                43.0                26.0                  19.0   \n4                54.0                20.0                  15.0   \n\n  R Wii Moonview Highway R Wii Mushroom Gorge R Wii Rainbow Road  \\\n0                   97.0                128.0               16.0   \n1                  217.0                304.0               36.0   \n2                   87.0                122.0               18.0   \n3                  102.0                104.0                7.0   \n4                   62.0                104.0               13.0   \n\n  R Wii Toad's Factory R Wii Wario's Gold Mine  \n0                 39.0                    14.0  \n1                 79.0                    54.0  \n2                 42.0                    34.0  \n3                 36.0                    22.0  \n4                 31.0                    22.0  \n\n[5 rows x 105 columns]",
      "text/html": "<div>\n<style scoped>\n    .dataframe tbody tr th:only-of-type {\n        vertical-align: middle;\n    }\n\n    .dataframe tbody tr th {\n        vertical-align: top;\n    }\n\n    .dataframe thead th {\n        text-align: right;\n    }\n</style>\n<table border=\"1\" class=\"dataframe\">\n  <thead>\n    <tr style=\"text-align: right;\">\n      <th></th>\n      <th>player_id</th>\n      <th>player_name</th>\n      <th>current_mmr</th>\n      <th>current_lr</th>\n      <th>win_percentage</th>\n      <th>win10_percentage</th>\n      <th>average_score</th>\n      <th>average10_score</th>\n      <th>total_events</th>\n      <th>AP DS Delfino Square</th>\n      <th>...</th>\n      <th>R Wii Koopa Cape</th>\n      <th>R Wii Luigi Circuit</th>\n      <th>R Wii Maple Treeway</th>\n      <th>R Wii Mario Circuit</th>\n      <th>R Wii Moo Moo Meadows</th>\n      <th>R Wii Moonview Highway</th>\n      <th>R Wii Mushroom Gorge</th>\n      <th>R Wii Rainbow Road</th>\n      <th>R Wii Toad's Factory</th>\n      <th>R Wii Wario's Gold Mine</th>\n    </tr>\n  </thead>\n  <tbody>\n    <tr>\n      <th>0</th>\n      <td>260</td>\n      <td>Az</td>\n      <td>17155</td>\n      <td>15757</td>\n      <td>0.962963</td>\n      <td>1.000000</td>\n      <td>99.0370</td>\n      <td>96.1000</td>\n      <td>54</td>\n      <td>5th</td>\n      <td>...</td>\n      <td>61.0</td>\n      <td>46.0</td>\n      <td>59.0</td>\n      <td>24.0</td>\n      <td>17.0</td>\n      <td>97.0</td>\n      <td>128.0</td>\n      <td>16.0</td>\n      <td>39.0</td>\n      <td>14.0</td>\n    </tr>\n    <tr>\n      <th>1</th>\n      <td>1207</td>\n      <td>Kevin</td>\n      <td>14339</td>\n      <td>15268</td>\n      <td>0.769841</td>\n      <td>0.555556</td>\n      <td>89.2217</td>\n      <td>78.7500</td>\n      <td>127</td>\n      <td>6th</td>\n      <td>...</td>\n      <td>161.0</td>\n      <td>146.0</td>\n      <td>121.0</td>\n      <td>61.0</td>\n      <td>24.0</td>\n      <td>217.0</td>\n      <td>304.0</td>\n      <td>36.0</td>\n      <td>79.0</td>\n      <td>54.0</td>\n    </tr>\n    <tr>\n      <th>2</th>\n      <td>290</td>\n      <td>barney</td>\n      <td>14495</td>\n      <td>14979</td>\n      <td>0.784946</td>\n      <td>0.600000</td>\n      <td>91.0257</td>\n      <td>90.7000</td>\n      <td>94</td>\n      <td>6th</td>\n      <td>...</td>\n      <td>94.0</td>\n      <td>61.0</td>\n      <td>67.0</td>\n      <td>22.0</td>\n      <td>21.0</td>\n      <td>87.0</td>\n      <td>122.0</td>\n      <td>18.0</td>\n      <td>42.0</td>\n      <td>34.0</td>\n    </tr>\n    <tr>\n      <th>3</th>\n      <td>1614</td>\n      <td>Kasperinos</td>\n      <td>13902</td>\n      <td>14817</td>\n      <td>0.758242</td>\n      <td>0.400000</td>\n      <td>90.2771</td>\n      <td>76.9286</td>\n      <td>92</td>\n      <td>5th</td>\n      <td>...</td>\n      <td>73.0</td>\n      <td>55.0</td>\n      <td>43.0</td>\n      <td>26.0</td>\n      <td>19.0</td>\n      <td>102.0</td>\n      <td>104.0</td>\n      <td>7.0</td>\n      <td>36.0</td>\n      <td>22.0</td>\n    </tr>\n    <tr>\n      <th>4</th>\n      <td>1043</td>\n      <td>Fox</td>\n      <td>13837</td>\n      <td>14535</td>\n      <td>0.684783</td>\n      <td>0.200000</td>\n      <td>92.1954</td>\n      <td>83.9000</td>\n      <td>92</td>\n      <td>6th</td>\n      <td>...</td>\n      <td>70.0</td>\n      <td>58.0</td>\n      <td>54.0</td>\n      <td>20.0</td>\n      <td>15.0</td>\n      <td>62.0</td>\n      <td>104.0</td>\n      <td>13.0</td>\n      <td>31.0</td>\n      <td>22.0</td>\n    </tr>\n  </tbody>\n</table>\n<p>5 rows × 105 columns</p>\n</div>"
     },
     "execution_count": 20,
     "metadata": {},
     "output_type": "execute_result"
    }
   ],
   "source": [
    "combodata = pd.merge(playerdata,trackdata, left_on='player_id', right_on='player_id')\n",
    "combodata.head()"
   ],
   "metadata": {
    "collapsed": false,
    "pycharm": {
     "name": "#%%\n"
    }
   }
  },
  {
   "cell_type": "code",
   "execution_count": null,
   "outputs": [],
   "source": [],
   "metadata": {
    "collapsed": false,
    "pycharm": {
     "name": "#%%\n"
    }
   }
  }
 ],
 "metadata": {
  "kernelspec": {
   "display_name": "Python 3",
   "language": "python",
   "name": "python3"
  },
  "language_info": {
   "codemirror_mode": {
    "name": "ipython",
    "version": 2
   },
   "file_extension": ".py",
   "mimetype": "text/x-python",
   "name": "python",
   "nbconvert_exporter": "python",
   "pygments_lexer": "ipython2",
   "version": "2.7.6"
  }
 },
 "nbformat": 4,
 "nbformat_minor": 0
}