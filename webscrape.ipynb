{
 "cells": [
  {
   "cell_type": "code",
   "execution_count": 1,
   "metadata": {},
   "outputs": [],
   "source": [
    "from bs4 import BeautifulSoup as bs\n",
    "import pandas as pd\n",
    "pd.set_option('display.max_colwidth', 500)\n",
    "import time\n",
    "import requests\n",
    "import random\n",
    "import aiohttp"
   ]
  },
  {
   "cell_type": "code",
   "execution_count": 2,
   "metadata": {},
   "outputs": [],
   "source": [
    "async def getJSONData(full_url):\n",
    "    try:\n",
    "        async with aiohttp.ClientSession() as session:\n",
    "            async with session.get(full_url) as r:\n",
    "                if r.status == 200:\n",
    "                    js = await r.json()\n",
    "                    return js\n",
    "    except:\n",
    "        return None\n",
    "\n",
    "\n"
   ]
  },
  {
   "cell_type": "code",
   "execution_count": 3,
   "metadata": {},
   "outputs": [
    {
     "name": "stdout",
     "output_type": "stream",
     "text": [
      "<class 'dict'>\n"
     ]
    }
   ],
   "source": [
    "metadata = await getJSONData('https://www.mkwlounge.gg/api/ladderplayer.php?ladder_type=rt&all=1')\n",
    "print(type(metadata))"
   ]
  },
  {
   "cell_type": "code",
   "execution_count": 4,
   "metadata": {},
   "outputs": [
    {
     "name": "stdout",
     "output_type": "stream",
     "text": [
      "<class 'pandas.core.frame.DataFrame'>\n",
      "RangeIndex: 3951 entries, 0 to 3950\n",
      "Data columns (total 47 columns):\n",
      " #   Column                   Non-Null Count  Dtype  \n",
      "---  ------                   --------------  -----  \n",
      " 0   player_id                3951 non-null   int64  \n",
      " 1   player_name              3951 non-null   object \n",
      " 2   player_country_flag      3951 non-null   object \n",
      " 3   discord_user_id          3404 non-null   object \n",
      " 4   base_mmr                 3951 non-null   int64  \n",
      " 5   base_lr                  3951 non-null   int64  \n",
      " 6   strikes                  3951 non-null   int64  \n",
      " 7   game_counter             3951 non-null   int64  \n",
      " 8   current_mmr              3951 non-null   int64  \n",
      " 9   current_lr               3951 non-null   int64  \n",
      " 10  peak_mmr                 3951 non-null   int64  \n",
      " 11  peak_lr                  3951 non-null   int64  \n",
      " 12  lowest_mmr               3951 non-null   int64  \n",
      " 13  lowest_lr                3951 non-null   int64  \n",
      " 14  wins                     3951 non-null   int64  \n",
      " 15  loss                     3951 non-null   int64  \n",
      " 16  max_gain_mmr             3951 non-null   int64  \n",
      " 17  max_gain_lr              3951 non-null   int64  \n",
      " 18  max_loss_mmr             3951 non-null   int64  \n",
      " 19  max_loss_lr              3951 non-null   int64  \n",
      " 20  win_percentage           3951 non-null   float64\n",
      " 21  gainloss10_mmr           3951 non-null   int64  \n",
      " 22  gainloss10_lr            3951 non-null   int64  \n",
      " 23  wins10                   3951 non-null   int64  \n",
      " 24  loss10                   3951 non-null   int64  \n",
      " 25  win10_percentage         3951 non-null   float64\n",
      " 26  win_streak               3951 non-null   int64  \n",
      " 27  top_score                3951 non-null   int64  \n",
      " 28  average_score            3951 non-null   float64\n",
      " 29  average10_score          3951 non-null   float64\n",
      " 30  std_score                3951 non-null   float64\n",
      " 31  std10_score              3951 non-null   float64\n",
      " 32  total_events             3951 non-null   int64  \n",
      " 33  penalties                3951 non-null   int64  \n",
      " 34  max_strikes              3951 non-null   int64  \n",
      " 35  ranking                  3951 non-null   object \n",
      " 36  percentile               3951 non-null   float64\n",
      " 37  previous_ranking         3951 non-null   object \n",
      " 38  previous_percentile      3950 non-null   float64\n",
      " 39  last_event_date          3951 non-null   object \n",
      " 40  total_events_since_date  3951 non-null   int64  \n",
      " 41  since_date               0 non-null      object \n",
      " 42  update_date              3951 non-null   object \n",
      " 43  current_division         3951 non-null   object \n",
      " 44  current_class            3951 non-null   object \n",
      " 45  url                      3951 non-null   object \n",
      " 46  current_emblem           3951 non-null   object \n",
      "dtypes: float64(8), int64(27), object(12)\n",
      "memory usage: 1.4+ MB\n"
     ]
    }
   ],
   "source": [
    "playerdata = pd.DataFrame(metadata['results'])\n",
    "playerdata.info()"
   ]
  },
  {
   "cell_type": "code",
   "execution_count": 5,
   "metadata": {},
   "outputs": [
    {
     "data": {
      "text/plain": "   player_id player_name player_country_flag     discord_user_id  base_mmr  \\\n0        260          Az                  jp  188508063995527168     17385   \n1       1207       Kevin                  de  551040312148230144     14234   \n2        290      barney                  no   82852901382258688     15128   \n3       1614  Kasperinos                  us  195336607807700992     14615   \n4       1043         Fox                  un  576472300006670374     15066   \n\n   base_lr  strikes  game_counter  current_mmr  current_lr  ...  \\\n0     7574        2            14        17155       15757  ...   \n1     5817        3            12        14339       15268  ...   \n2     6403        0            16        14495       14979  ...   \n3     6758        2            17        13902       14817  ...   \n4     6480        1            14        13837       14535  ...   \n\n   previous_ranking  previous_percentile      last_event_date  \\\n0                 1              99.9213  2022-04-27 14:37:46   \n1                 2              99.8425  2022-04-28 17:17:25   \n2                 3              99.7638  2022-04-28 19:27:32   \n3                 4              99.6850  2022-04-23 10:01:15   \n4                 5              99.6063  2022-04-27 13:39:15   \n\n   total_events_since_date  since_date          update_date  current_division  \\\n0                       54        None  2022-04-27 14:37:46       Grandmaster   \n1                      127        None  2022-04-28 17:17:25       Grandmaster   \n2                       94        None  2022-04-28 19:27:32            Master   \n3                       92        None  2022-04-23 10:01:15            Master   \n4                       92        None  2022-04-27 13:39:15            Master   \n\n   current_class  \\\n0        Class X   \n1        Class X   \n2        Class X   \n3        Class X   \n4        Class X   \n\n                                                                     url  \\\n0   https://www.mkwlounge.gg/ladder/player.php?player_id=260&ladder_id=3   \n1  https://www.mkwlounge.gg/ladder/player.php?player_id=1207&ladder_id=3   \n2   https://www.mkwlounge.gg/ladder/player.php?player_id=290&ladder_id=3   \n3  https://www.mkwlounge.gg/ladder/player.php?player_id=1614&ladder_id=3   \n4  https://www.mkwlounge.gg/ladder/player.php?player_id=1043&ladder_id=3   \n\n                    current_emblem  \n0  https://i.imgur.com/ZV1JMyg.png  \n1  https://i.imgur.com/ZV1JMyg.png  \n2  https://i.imgur.com/BdAQPiE.png  \n3  https://i.imgur.com/BdAQPiE.png  \n4  https://i.imgur.com/BdAQPiE.png  \n\n[5 rows x 47 columns]",
      "text/html": "<div>\n<style scoped>\n    .dataframe tbody tr th:only-of-type {\n        vertical-align: middle;\n    }\n\n    .dataframe tbody tr th {\n        vertical-align: top;\n    }\n\n    .dataframe thead th {\n        text-align: right;\n    }\n</style>\n<table border=\"1\" class=\"dataframe\">\n  <thead>\n    <tr style=\"text-align: right;\">\n      <th></th>\n      <th>player_id</th>\n      <th>player_name</th>\n      <th>player_country_flag</th>\n      <th>discord_user_id</th>\n      <th>base_mmr</th>\n      <th>base_lr</th>\n      <th>strikes</th>\n      <th>game_counter</th>\n      <th>current_mmr</th>\n      <th>current_lr</th>\n      <th>...</th>\n      <th>previous_ranking</th>\n      <th>previous_percentile</th>\n      <th>last_event_date</th>\n      <th>total_events_since_date</th>\n      <th>since_date</th>\n      <th>update_date</th>\n      <th>current_division</th>\n      <th>current_class</th>\n      <th>url</th>\n      <th>current_emblem</th>\n    </tr>\n  </thead>\n  <tbody>\n    <tr>\n      <th>0</th>\n      <td>260</td>\n      <td>Az</td>\n      <td>jp</td>\n      <td>188508063995527168</td>\n      <td>17385</td>\n      <td>7574</td>\n      <td>2</td>\n      <td>14</td>\n      <td>17155</td>\n      <td>15757</td>\n      <td>...</td>\n      <td>1</td>\n      <td>99.9213</td>\n      <td>2022-04-27 14:37:46</td>\n      <td>54</td>\n      <td>None</td>\n      <td>2022-04-27 14:37:46</td>\n      <td>Grandmaster</td>\n      <td>Class X</td>\n      <td>https://www.mkwlounge.gg/ladder/player.php?player_id=260&amp;ladder_id=3</td>\n      <td>https://i.imgur.com/ZV1JMyg.png</td>\n    </tr>\n    <tr>\n      <th>1</th>\n      <td>1207</td>\n      <td>Kevin</td>\n      <td>de</td>\n      <td>551040312148230144</td>\n      <td>14234</td>\n      <td>5817</td>\n      <td>3</td>\n      <td>12</td>\n      <td>14339</td>\n      <td>15268</td>\n      <td>...</td>\n      <td>2</td>\n      <td>99.8425</td>\n      <td>2022-04-28 17:17:25</td>\n      <td>127</td>\n      <td>None</td>\n      <td>2022-04-28 17:17:25</td>\n      <td>Grandmaster</td>\n      <td>Class X</td>\n      <td>https://www.mkwlounge.gg/ladder/player.php?player_id=1207&amp;ladder_id=3</td>\n      <td>https://i.imgur.com/ZV1JMyg.png</td>\n    </tr>\n    <tr>\n      <th>2</th>\n      <td>290</td>\n      <td>barney</td>\n      <td>no</td>\n      <td>82852901382258688</td>\n      <td>15128</td>\n      <td>6403</td>\n      <td>0</td>\n      <td>16</td>\n      <td>14495</td>\n      <td>14979</td>\n      <td>...</td>\n      <td>3</td>\n      <td>99.7638</td>\n      <td>2022-04-28 19:27:32</td>\n      <td>94</td>\n      <td>None</td>\n      <td>2022-04-28 19:27:32</td>\n      <td>Master</td>\n      <td>Class X</td>\n      <td>https://www.mkwlounge.gg/ladder/player.php?player_id=290&amp;ladder_id=3</td>\n      <td>https://i.imgur.com/BdAQPiE.png</td>\n    </tr>\n    <tr>\n      <th>3</th>\n      <td>1614</td>\n      <td>Kasperinos</td>\n      <td>us</td>\n      <td>195336607807700992</td>\n      <td>14615</td>\n      <td>6758</td>\n      <td>2</td>\n      <td>17</td>\n      <td>13902</td>\n      <td>14817</td>\n      <td>...</td>\n      <td>4</td>\n      <td>99.6850</td>\n      <td>2022-04-23 10:01:15</td>\n      <td>92</td>\n      <td>None</td>\n      <td>2022-04-23 10:01:15</td>\n      <td>Master</td>\n      <td>Class X</td>\n      <td>https://www.mkwlounge.gg/ladder/player.php?player_id=1614&amp;ladder_id=3</td>\n      <td>https://i.imgur.com/BdAQPiE.png</td>\n    </tr>\n    <tr>\n      <th>4</th>\n      <td>1043</td>\n      <td>Fox</td>\n      <td>un</td>\n      <td>576472300006670374</td>\n      <td>15066</td>\n      <td>6480</td>\n      <td>1</td>\n      <td>14</td>\n      <td>13837</td>\n      <td>14535</td>\n      <td>...</td>\n      <td>5</td>\n      <td>99.6063</td>\n      <td>2022-04-27 13:39:15</td>\n      <td>92</td>\n      <td>None</td>\n      <td>2022-04-27 13:39:15</td>\n      <td>Master</td>\n      <td>Class X</td>\n      <td>https://www.mkwlounge.gg/ladder/player.php?player_id=1043&amp;ladder_id=3</td>\n      <td>https://i.imgur.com/BdAQPiE.png</td>\n    </tr>\n  </tbody>\n</table>\n<p>5 rows × 47 columns</p>\n</div>"
     },
     "execution_count": 5,
     "metadata": {},
     "output_type": "execute_result"
    }
   ],
   "source": [
    "playerdata.head()"
   ]
  },
  {
   "cell_type": "code",
   "execution_count": 6,
   "metadata": {},
   "outputs": [
    {
     "data": {
      "text/plain": "   player_id player_name  current_mmr  current_lr  win_percentage  \\\n0        260          Az        17155       15757        0.962963   \n1       1207       Kevin        14339       15268        0.769841   \n2        290      barney        14495       14979        0.784946   \n3       1614  Kasperinos        13902       14817        0.758242   \n4       1043         Fox        13837       14535        0.684783   \n\n   win10_percentage  average_score  average10_score  total_events  \n0          1.000000        99.0370          96.1000            54  \n1          0.555556        89.2217          78.7500           127  \n2          0.600000        91.0257          90.7000            94  \n3          0.400000        90.2771          76.9286            92  \n4          0.200000        92.1954          83.9000            92  ",
      "text/html": "<div>\n<style scoped>\n    .dataframe tbody tr th:only-of-type {\n        vertical-align: middle;\n    }\n\n    .dataframe tbody tr th {\n        vertical-align: top;\n    }\n\n    .dataframe thead th {\n        text-align: right;\n    }\n</style>\n<table border=\"1\" class=\"dataframe\">\n  <thead>\n    <tr style=\"text-align: right;\">\n      <th></th>\n      <th>player_id</th>\n      <th>player_name</th>\n      <th>current_mmr</th>\n      <th>current_lr</th>\n      <th>win_percentage</th>\n      <th>win10_percentage</th>\n      <th>average_score</th>\n      <th>average10_score</th>\n      <th>total_events</th>\n    </tr>\n  </thead>\n  <tbody>\n    <tr>\n      <th>0</th>\n      <td>260</td>\n      <td>Az</td>\n      <td>17155</td>\n      <td>15757</td>\n      <td>0.962963</td>\n      <td>1.000000</td>\n      <td>99.0370</td>\n      <td>96.1000</td>\n      <td>54</td>\n    </tr>\n    <tr>\n      <th>1</th>\n      <td>1207</td>\n      <td>Kevin</td>\n      <td>14339</td>\n      <td>15268</td>\n      <td>0.769841</td>\n      <td>0.555556</td>\n      <td>89.2217</td>\n      <td>78.7500</td>\n      <td>127</td>\n    </tr>\n    <tr>\n      <th>2</th>\n      <td>290</td>\n      <td>barney</td>\n      <td>14495</td>\n      <td>14979</td>\n      <td>0.784946</td>\n      <td>0.600000</td>\n      <td>91.0257</td>\n      <td>90.7000</td>\n      <td>94</td>\n    </tr>\n    <tr>\n      <th>3</th>\n      <td>1614</td>\n      <td>Kasperinos</td>\n      <td>13902</td>\n      <td>14817</td>\n      <td>0.758242</td>\n      <td>0.400000</td>\n      <td>90.2771</td>\n      <td>76.9286</td>\n      <td>92</td>\n    </tr>\n    <tr>\n      <th>4</th>\n      <td>1043</td>\n      <td>Fox</td>\n      <td>13837</td>\n      <td>14535</td>\n      <td>0.684783</td>\n      <td>0.200000</td>\n      <td>92.1954</td>\n      <td>83.9000</td>\n      <td>92</td>\n    </tr>\n  </tbody>\n</table>\n</div>"
     },
     "execution_count": 6,
     "metadata": {},
     "output_type": "execute_result"
    }
   ],
   "source": [
    "playerdata = playerdata[['player_id','player_name','current_mmr','current_lr','win_percentage','win10_percentage','average_score','average10_score','total_events']]\n",
    "playerdata.head()"
   ]
  },
  {
   "cell_type": "code",
   "execution_count": 7,
   "metadata": {},
   "outputs": [],
   "source": [
    "def getTrackData(player_id):\n",
    "    url = 'https://mkwlounge.gg/ladder/player.php?player_id={}&ladder_id=3'.format(player_id)\n",
    "    # print(url)\n",
    "    playerpage = requests.get(url, timeout=3)\n",
    "    playersoup = bs(playerpage.content)\n",
    "    playertables = playersoup.find_all('table')\n",
    "    dfs = pd.read_html(str(playertables))[3]\n",
    "    return dfs"
   ]
  },
  {
   "cell_type": "code",
   "execution_count": 8,
   "metadata": {},
   "outputs": [],
   "source": [
    "def formatTrackData(df, index):\n",
    "    df.drop(['Std Dev Time', 'Average Points', 'Fastest Time', 'Slowest Time'], axis=1, inplace=True)\n",
    "    melted = df.pivot(index = 'Engine', columns='Track')\n",
    "    melted = melted.drop('Mirror', axis=0, errors='ignore')\n",
    "    melted = melted.drop('100cc', axis=0, errors='ignore')\n",
    "    melted = melted.rename(index={'150cc': index})\n",
    "    return melted"
   ]
  },
  {
   "cell_type": "code",
   "execution_count": 121,
   "outputs": [],
   "source": [
    "def renameCols(df):\n",
    "    df.rename(columns=lambda x: upperDict[x], level=0, inplace=True)\n",
    "    df.columns = [' '.join(col).strip() for col in df.columns.values]\n",
    "    df.drop(['AT -','AP -', 'R -'], axis=1, inplace=True)\n",
    "    df.rename(columns=lambda c: c.replace(' (Nintendo)',''), inplace=True)\n",
    "    df.index.name = None\n",
    "    return df\n",
    "\n"
   ],
   "metadata": {
    "collapsed": false,
    "pycharm": {
     "name": "#%%\n"
    }
   }
  },
  {
   "cell_type": "code",
   "execution_count": 10,
   "outputs": [
    {
     "data": {
      "text/plain": "(1254, 9)"
     },
     "execution_count": 10,
     "metadata": {},
     "output_type": "execute_result"
    }
   ],
   "source": [
    "betterdata = playerdata.loc[playerdata[\"total_events\"]!= 0]\n",
    "betterdata = betterdata.loc[betterdata[\"current_mmr\"] >= 0]\n",
    "betterdata.shape"
   ],
   "metadata": {
    "collapsed": false,
    "pycharm": {
     "name": "#%%\n"
    }
   }
  },
  {
   "cell_type": "code",
   "execution_count": 40,
   "metadata": {},
   "outputs": [
    {
     "name": "stdout",
     "output_type": "stream",
     "text": [
      "working: 0\n",
      "working: 100\n",
      "working: 200\n",
      "working: 300\n",
      "working: 400\n",
      "working: 500\n",
      "working: 600\n",
      "working: 700\n",
      "working: 800\n",
      "working: 900\n",
      "working: 1000\n",
      "working: 1100\n",
      "working: 1200\n"
     ]
    }
   ],
   "source": [
    "\n",
    "test = pd.DataFrame()\n",
    "dfs = []\n",
    "i =0\n",
    "for index, row in betterdata.iterrows():\n",
    "    trackdata = getTrackData(row['player_id'])\n",
    "    formatData = formatTrackData(trackdata, index)\n",
    "    formatData['player_id'] = row['player_id']\n",
    "    dfs.append(formatData)\n",
    "    if i %100 == 0:\n",
    "        print('working: ' + str(i))\n",
    "    i = i + 1"
   ]
  },
  {
   "cell_type": "code",
   "execution_count": 122,
   "outputs": [],
   "source": [
    "test = pd.DataFrame()\n",
    "test = pd.DataFrame().append(dfs)"
   ],
   "metadata": {
    "collapsed": false,
    "pycharm": {
     "name": "#%%\n"
    }
   }
  },
  {
   "cell_type": "code",
   "execution_count": 123,
   "outputs": [
    {
     "data": {
      "text/plain": "  AP DS Delfino Square AP DS Desert Hills AP DS Peach Gardens  \\\n0                  5th                5th                 5th   \n1                  6th                5th                 5th   \n2                  6th                5th                 6th   \n3                  5th                5th                 5th   \n4                  6th                5th                 5th   \n\n  AP DS Yoshi Falls AP GBA Bowser Castle 3 AP GBA Shy Guy Beach  \\\n0               4th                    5th                  3rd   \n1               5th                    5th                  5th   \n2               4th                    5th                  9th   \n3               5th                    5th                  5th   \n4               6th                    5th                  3rd   \n\n  AP GCN DK Mountain AP GCN Mario Circuit AP GCN Peach Beach  \\\n0                5th                  4th                5th   \n1                5th                  6th                6th   \n2                5th                  5th                6th   \n3                5th                  7th                5th   \n4                4th                  6th                6th   \n\n  AP GCN Waluigi Stadium  ... R Wii Luigi Circuit R Wii Maple Treeway  \\\n0                    5th  ...                46.0                59.0   \n1                    6th  ...               146.0               121.0   \n2                    5th  ...                61.0                67.0   \n3                    5th  ...                55.0                43.0   \n4                    5th  ...                58.0                54.0   \n\n  R Wii Mario Circuit R Wii Moo Moo Meadows R Wii Moonview Highway  \\\n0                24.0                  17.0                   97.0   \n1                61.0                  24.0                  217.0   \n2                22.0                  21.0                   87.0   \n3                26.0                  19.0                  102.0   \n4                20.0                  15.0                   62.0   \n\n  R Wii Mushroom Gorge R Wii Rainbow Road R Wii Toad's Factory  \\\n0                128.0               16.0                 39.0   \n1                304.0               36.0                 79.0   \n2                122.0               18.0                 42.0   \n3                104.0                7.0                 36.0   \n4                104.0               13.0                 31.0   \n\n  R Wii Wario's Gold Mine player_id  \n0                    14.0       260  \n1                    54.0      1207  \n2                    34.0       290  \n3                    22.0      1614  \n4                    22.0      1043  \n\n[5 rows x 97 columns]",
      "text/html": "<div>\n<style scoped>\n    .dataframe tbody tr th:only-of-type {\n        vertical-align: middle;\n    }\n\n    .dataframe tbody tr th {\n        vertical-align: top;\n    }\n\n    .dataframe thead th {\n        text-align: right;\n    }\n</style>\n<table border=\"1\" class=\"dataframe\">\n  <thead>\n    <tr style=\"text-align: right;\">\n      <th></th>\n      <th>AP DS Delfino Square</th>\n      <th>AP DS Desert Hills</th>\n      <th>AP DS Peach Gardens</th>\n      <th>AP DS Yoshi Falls</th>\n      <th>AP GBA Bowser Castle 3</th>\n      <th>AP GBA Shy Guy Beach</th>\n      <th>AP GCN DK Mountain</th>\n      <th>AP GCN Mario Circuit</th>\n      <th>AP GCN Peach Beach</th>\n      <th>AP GCN Waluigi Stadium</th>\n      <th>...</th>\n      <th>R Wii Luigi Circuit</th>\n      <th>R Wii Maple Treeway</th>\n      <th>R Wii Mario Circuit</th>\n      <th>R Wii Moo Moo Meadows</th>\n      <th>R Wii Moonview Highway</th>\n      <th>R Wii Mushroom Gorge</th>\n      <th>R Wii Rainbow Road</th>\n      <th>R Wii Toad's Factory</th>\n      <th>R Wii Wario's Gold Mine</th>\n      <th>player_id</th>\n    </tr>\n  </thead>\n  <tbody>\n    <tr>\n      <th>0</th>\n      <td>5th</td>\n      <td>5th</td>\n      <td>5th</td>\n      <td>4th</td>\n      <td>5th</td>\n      <td>3rd</td>\n      <td>5th</td>\n      <td>4th</td>\n      <td>5th</td>\n      <td>5th</td>\n      <td>...</td>\n      <td>46.0</td>\n      <td>59.0</td>\n      <td>24.0</td>\n      <td>17.0</td>\n      <td>97.0</td>\n      <td>128.0</td>\n      <td>16.0</td>\n      <td>39.0</td>\n      <td>14.0</td>\n      <td>260</td>\n    </tr>\n    <tr>\n      <th>1</th>\n      <td>6th</td>\n      <td>5th</td>\n      <td>5th</td>\n      <td>5th</td>\n      <td>5th</td>\n      <td>5th</td>\n      <td>5th</td>\n      <td>6th</td>\n      <td>6th</td>\n      <td>6th</td>\n      <td>...</td>\n      <td>146.0</td>\n      <td>121.0</td>\n      <td>61.0</td>\n      <td>24.0</td>\n      <td>217.0</td>\n      <td>304.0</td>\n      <td>36.0</td>\n      <td>79.0</td>\n      <td>54.0</td>\n      <td>1207</td>\n    </tr>\n    <tr>\n      <th>2</th>\n      <td>6th</td>\n      <td>5th</td>\n      <td>6th</td>\n      <td>4th</td>\n      <td>5th</td>\n      <td>9th</td>\n      <td>5th</td>\n      <td>5th</td>\n      <td>6th</td>\n      <td>5th</td>\n      <td>...</td>\n      <td>61.0</td>\n      <td>67.0</td>\n      <td>22.0</td>\n      <td>21.0</td>\n      <td>87.0</td>\n      <td>122.0</td>\n      <td>18.0</td>\n      <td>42.0</td>\n      <td>34.0</td>\n      <td>290</td>\n    </tr>\n    <tr>\n      <th>3</th>\n      <td>5th</td>\n      <td>5th</td>\n      <td>5th</td>\n      <td>5th</td>\n      <td>5th</td>\n      <td>5th</td>\n      <td>5th</td>\n      <td>7th</td>\n      <td>5th</td>\n      <td>5th</td>\n      <td>...</td>\n      <td>55.0</td>\n      <td>43.0</td>\n      <td>26.0</td>\n      <td>19.0</td>\n      <td>102.0</td>\n      <td>104.0</td>\n      <td>7.0</td>\n      <td>36.0</td>\n      <td>22.0</td>\n      <td>1614</td>\n    </tr>\n    <tr>\n      <th>4</th>\n      <td>6th</td>\n      <td>5th</td>\n      <td>5th</td>\n      <td>6th</td>\n      <td>5th</td>\n      <td>3rd</td>\n      <td>4th</td>\n      <td>6th</td>\n      <td>6th</td>\n      <td>5th</td>\n      <td>...</td>\n      <td>58.0</td>\n      <td>54.0</td>\n      <td>20.0</td>\n      <td>15.0</td>\n      <td>62.0</td>\n      <td>104.0</td>\n      <td>13.0</td>\n      <td>31.0</td>\n      <td>22.0</td>\n      <td>1043</td>\n    </tr>\n  </tbody>\n</table>\n<p>5 rows × 97 columns</p>\n</div>"
     },
     "execution_count": 123,
     "metadata": {},
     "output_type": "execute_result"
    }
   ],
   "source": [
    "test = renameCols(test)\n",
    "test.head()"
   ],
   "metadata": {
    "collapsed": false,
    "pycharm": {
     "name": "#%%\n"
    }
   }
  },
  {
   "cell_type": "code",
   "execution_count": 116,
   "outputs": [],
   "source": [],
   "metadata": {
    "collapsed": false,
    "pycharm": {
     "name": "#%%\n"
    }
   }
  },
  {
   "cell_type": "code",
   "execution_count": 110,
   "outputs": [
    {
     "data": {
      "text/plain": "Index(['AP', 'AT', 'R', 'player_id'], dtype='object')"
     },
     "execution_count": 110,
     "metadata": {},
     "output_type": "execute_result"
    }
   ],
   "source": [
    "test.rename(columns=lambda x: upperDict[x], level=0, inplace=True)\n",
    "test.columns.droplevel(1).unique()"
   ],
   "metadata": {
    "collapsed": false,
    "pycharm": {
     "name": "#%%\n"
    }
   }
  },
  {
   "cell_type": "code",
   "execution_count": 124,
   "outputs": [
    {
     "data": {
      "text/plain": "   player_id player_name  current_mmr  current_lr  win_percentage  \\\n0        260          Az        17155       15757        0.962963   \n1       1207       Kevin        14339       15268        0.769841   \n2        290      barney        14495       14979        0.784946   \n3       1614  Kasperinos        13902       14817        0.758242   \n4       1043         Fox        13837       14535        0.684783   \n\n   win10_percentage  average_score  average10_score  total_events  \n0          1.000000        99.0370          96.1000            54  \n1          0.555556        89.2217          78.7500           127  \n2          0.600000        91.0257          90.7000            94  \n3          0.400000        90.2771          76.9286            92  \n4          0.200000        92.1954          83.9000            92  ",
      "text/html": "<div>\n<style scoped>\n    .dataframe tbody tr th:only-of-type {\n        vertical-align: middle;\n    }\n\n    .dataframe tbody tr th {\n        vertical-align: top;\n    }\n\n    .dataframe thead th {\n        text-align: right;\n    }\n</style>\n<table border=\"1\" class=\"dataframe\">\n  <thead>\n    <tr style=\"text-align: right;\">\n      <th></th>\n      <th>player_id</th>\n      <th>player_name</th>\n      <th>current_mmr</th>\n      <th>current_lr</th>\n      <th>win_percentage</th>\n      <th>win10_percentage</th>\n      <th>average_score</th>\n      <th>average10_score</th>\n      <th>total_events</th>\n    </tr>\n  </thead>\n  <tbody>\n    <tr>\n      <th>0</th>\n      <td>260</td>\n      <td>Az</td>\n      <td>17155</td>\n      <td>15757</td>\n      <td>0.962963</td>\n      <td>1.000000</td>\n      <td>99.0370</td>\n      <td>96.1000</td>\n      <td>54</td>\n    </tr>\n    <tr>\n      <th>1</th>\n      <td>1207</td>\n      <td>Kevin</td>\n      <td>14339</td>\n      <td>15268</td>\n      <td>0.769841</td>\n      <td>0.555556</td>\n      <td>89.2217</td>\n      <td>78.7500</td>\n      <td>127</td>\n    </tr>\n    <tr>\n      <th>2</th>\n      <td>290</td>\n      <td>barney</td>\n      <td>14495</td>\n      <td>14979</td>\n      <td>0.784946</td>\n      <td>0.600000</td>\n      <td>91.0257</td>\n      <td>90.7000</td>\n      <td>94</td>\n    </tr>\n    <tr>\n      <th>3</th>\n      <td>1614</td>\n      <td>Kasperinos</td>\n      <td>13902</td>\n      <td>14817</td>\n      <td>0.758242</td>\n      <td>0.400000</td>\n      <td>90.2771</td>\n      <td>76.9286</td>\n      <td>92</td>\n    </tr>\n    <tr>\n      <th>4</th>\n      <td>1043</td>\n      <td>Fox</td>\n      <td>13837</td>\n      <td>14535</td>\n      <td>0.684783</td>\n      <td>0.200000</td>\n      <td>92.1954</td>\n      <td>83.9000</td>\n      <td>92</td>\n    </tr>\n  </tbody>\n</table>\n</div>"
     },
     "execution_count": 124,
     "metadata": {},
     "output_type": "execute_result"
    }
   ],
   "source": [
    "betterdata.head()"
   ],
   "metadata": {
    "collapsed": false,
    "pycharm": {
     "name": "#%%\n"
    }
   }
  },
  {
   "cell_type": "code",
   "execution_count": 125,
   "outputs": [
    {
     "data": {
      "text/plain": "   player_id player_name  current_mmr  current_lr  win_percentage  \\\n0        260          Az        17155       15757        0.962963   \n1       1207       Kevin        14339       15268        0.769841   \n2        290      barney        14495       14979        0.784946   \n3       1614  Kasperinos        13902       14817        0.758242   \n4       1043         Fox        13837       14535        0.684783   \n\n   win10_percentage  average_score  average10_score  total_events  \\\n0          1.000000        99.0370          96.1000            54   \n1          0.555556        89.2217          78.7500           127   \n2          0.600000        91.0257          90.7000            94   \n3          0.400000        90.2771          76.9286            92   \n4          0.200000        92.1954          83.9000            92   \n\n  AP DS Delfino Square  ... R Wii Koopa Cape R Wii Luigi Circuit  \\\n0                  5th  ...             61.0                46.0   \n1                  6th  ...            161.0               146.0   \n2                  6th  ...             94.0                61.0   \n3                  5th  ...             73.0                55.0   \n4                  6th  ...             70.0                58.0   \n\n  R Wii Maple Treeway R Wii Mario Circuit R Wii Moo Moo Meadows  \\\n0                59.0                24.0                  17.0   \n1               121.0                61.0                  24.0   \n2                67.0                22.0                  21.0   \n3                43.0                26.0                  19.0   \n4                54.0                20.0                  15.0   \n\n  R Wii Moonview Highway R Wii Mushroom Gorge R Wii Rainbow Road  \\\n0                   97.0                128.0               16.0   \n1                  217.0                304.0               36.0   \n2                   87.0                122.0               18.0   \n3                  102.0                104.0                7.0   \n4                   62.0                104.0               13.0   \n\n  R Wii Toad's Factory R Wii Wario's Gold Mine  \n0                 39.0                    14.0  \n1                 79.0                    54.0  \n2                 42.0                    34.0  \n3                 36.0                    22.0  \n4                 31.0                    22.0  \n\n[5 rows x 105 columns]",
      "text/html": "<div>\n<style scoped>\n    .dataframe tbody tr th:only-of-type {\n        vertical-align: middle;\n    }\n\n    .dataframe tbody tr th {\n        vertical-align: top;\n    }\n\n    .dataframe thead th {\n        text-align: right;\n    }\n</style>\n<table border=\"1\" class=\"dataframe\">\n  <thead>\n    <tr style=\"text-align: right;\">\n      <th></th>\n      <th>player_id</th>\n      <th>player_name</th>\n      <th>current_mmr</th>\n      <th>current_lr</th>\n      <th>win_percentage</th>\n      <th>win10_percentage</th>\n      <th>average_score</th>\n      <th>average10_score</th>\n      <th>total_events</th>\n      <th>AP DS Delfino Square</th>\n      <th>...</th>\n      <th>R Wii Koopa Cape</th>\n      <th>R Wii Luigi Circuit</th>\n      <th>R Wii Maple Treeway</th>\n      <th>R Wii Mario Circuit</th>\n      <th>R Wii Moo Moo Meadows</th>\n      <th>R Wii Moonview Highway</th>\n      <th>R Wii Mushroom Gorge</th>\n      <th>R Wii Rainbow Road</th>\n      <th>R Wii Toad's Factory</th>\n      <th>R Wii Wario's Gold Mine</th>\n    </tr>\n  </thead>\n  <tbody>\n    <tr>\n      <th>0</th>\n      <td>260</td>\n      <td>Az</td>\n      <td>17155</td>\n      <td>15757</td>\n      <td>0.962963</td>\n      <td>1.000000</td>\n      <td>99.0370</td>\n      <td>96.1000</td>\n      <td>54</td>\n      <td>5th</td>\n      <td>...</td>\n      <td>61.0</td>\n      <td>46.0</td>\n      <td>59.0</td>\n      <td>24.0</td>\n      <td>17.0</td>\n      <td>97.0</td>\n      <td>128.0</td>\n      <td>16.0</td>\n      <td>39.0</td>\n      <td>14.0</td>\n    </tr>\n    <tr>\n      <th>1</th>\n      <td>1207</td>\n      <td>Kevin</td>\n      <td>14339</td>\n      <td>15268</td>\n      <td>0.769841</td>\n      <td>0.555556</td>\n      <td>89.2217</td>\n      <td>78.7500</td>\n      <td>127</td>\n      <td>6th</td>\n      <td>...</td>\n      <td>161.0</td>\n      <td>146.0</td>\n      <td>121.0</td>\n      <td>61.0</td>\n      <td>24.0</td>\n      <td>217.0</td>\n      <td>304.0</td>\n      <td>36.0</td>\n      <td>79.0</td>\n      <td>54.0</td>\n    </tr>\n    <tr>\n      <th>2</th>\n      <td>290</td>\n      <td>barney</td>\n      <td>14495</td>\n      <td>14979</td>\n      <td>0.784946</td>\n      <td>0.600000</td>\n      <td>91.0257</td>\n      <td>90.7000</td>\n      <td>94</td>\n      <td>6th</td>\n      <td>...</td>\n      <td>94.0</td>\n      <td>61.0</td>\n      <td>67.0</td>\n      <td>22.0</td>\n      <td>21.0</td>\n      <td>87.0</td>\n      <td>122.0</td>\n      <td>18.0</td>\n      <td>42.0</td>\n      <td>34.0</td>\n    </tr>\n    <tr>\n      <th>3</th>\n      <td>1614</td>\n      <td>Kasperinos</td>\n      <td>13902</td>\n      <td>14817</td>\n      <td>0.758242</td>\n      <td>0.400000</td>\n      <td>90.2771</td>\n      <td>76.9286</td>\n      <td>92</td>\n      <td>5th</td>\n      <td>...</td>\n      <td>73.0</td>\n      <td>55.0</td>\n      <td>43.0</td>\n      <td>26.0</td>\n      <td>19.0</td>\n      <td>102.0</td>\n      <td>104.0</td>\n      <td>7.0</td>\n      <td>36.0</td>\n      <td>22.0</td>\n    </tr>\n    <tr>\n      <th>4</th>\n      <td>1043</td>\n      <td>Fox</td>\n      <td>13837</td>\n      <td>14535</td>\n      <td>0.684783</td>\n      <td>0.200000</td>\n      <td>92.1954</td>\n      <td>83.9000</td>\n      <td>92</td>\n      <td>6th</td>\n      <td>...</td>\n      <td>70.0</td>\n      <td>58.0</td>\n      <td>54.0</td>\n      <td>20.0</td>\n      <td>15.0</td>\n      <td>62.0</td>\n      <td>104.0</td>\n      <td>13.0</td>\n      <td>31.0</td>\n      <td>22.0</td>\n    </tr>\n  </tbody>\n</table>\n<p>5 rows × 105 columns</p>\n</div>"
     },
     "execution_count": 125,
     "metadata": {},
     "output_type": "execute_result"
    }
   ],
   "source": [
    "combodata = pd.merge(betterdata, test, left_on='player_id', right_on='player_id')\n",
    "combodata.head()"
   ],
   "metadata": {
    "collapsed": false,
    "pycharm": {
     "name": "#%%\n"
    }
   }
  },
  {
   "cell_type": "code",
   "execution_count": 45,
   "outputs": [
    {
     "data": {
      "text/plain": "     player_id player_name  current_mmr  current_lr  win_percentage  \\\n422       4088    fordj262         4226        4116            0.75   \n\n     win10_percentage  average_score  average10_score  total_events  \\\n422              0.75           85.0             85.0             4   \n\n    (Average Placement, -)  ... (Races, Wii Koopa Cape (Nintendo))  \\\n422                    NaN  ...                                1.0   \n\n    (Races, Wii Luigi Circuit (Nintendo))  \\\n422                                   1.0   \n\n    (Races, Wii Maple Treeway (Nintendo))  \\\n422                                   1.0   \n\n    (Races, Wii Mario Circuit (Nintendo))  \\\n422                                   NaN   \n\n    (Races, Wii Moo Moo Meadows (Nintendo))  \\\n422                                     1.0   \n\n    (Races, Wii Moonview Highway (Nintendo))  \\\n422                                      NaN   \n\n    (Races, Wii Mushroom Gorge (Nintendo))  \\\n422                                    2.0   \n\n    (Races, Wii Rainbow Road (Nintendo))  \\\n422                                  1.0   \n\n    (Races, Wii Toad's Factory (Nintendo))  \\\n422                                    2.0   \n\n    (Races, Wii Wario's Gold Mine (Nintendo))  \n422                                       NaN  \n\n[1 rows x 108 columns]",
      "text/html": "<div>\n<style scoped>\n    .dataframe tbody tr th:only-of-type {\n        vertical-align: middle;\n    }\n\n    .dataframe tbody tr th {\n        vertical-align: top;\n    }\n\n    .dataframe thead th {\n        text-align: right;\n    }\n</style>\n<table border=\"1\" class=\"dataframe\">\n  <thead>\n    <tr style=\"text-align: right;\">\n      <th></th>\n      <th>player_id</th>\n      <th>player_name</th>\n      <th>current_mmr</th>\n      <th>current_lr</th>\n      <th>win_percentage</th>\n      <th>win10_percentage</th>\n      <th>average_score</th>\n      <th>average10_score</th>\n      <th>total_events</th>\n      <th>(Average Placement, -)</th>\n      <th>...</th>\n      <th>(Races, Wii Koopa Cape (Nintendo))</th>\n      <th>(Races, Wii Luigi Circuit (Nintendo))</th>\n      <th>(Races, Wii Maple Treeway (Nintendo))</th>\n      <th>(Races, Wii Mario Circuit (Nintendo))</th>\n      <th>(Races, Wii Moo Moo Meadows (Nintendo))</th>\n      <th>(Races, Wii Moonview Highway (Nintendo))</th>\n      <th>(Races, Wii Mushroom Gorge (Nintendo))</th>\n      <th>(Races, Wii Rainbow Road (Nintendo))</th>\n      <th>(Races, Wii Toad's Factory (Nintendo))</th>\n      <th>(Races, Wii Wario's Gold Mine (Nintendo))</th>\n    </tr>\n  </thead>\n  <tbody>\n    <tr>\n      <th>422</th>\n      <td>4088</td>\n      <td>fordj262</td>\n      <td>4226</td>\n      <td>4116</td>\n      <td>0.75</td>\n      <td>0.75</td>\n      <td>85.0</td>\n      <td>85.0</td>\n      <td>4</td>\n      <td>NaN</td>\n      <td>...</td>\n      <td>1.0</td>\n      <td>1.0</td>\n      <td>1.0</td>\n      <td>NaN</td>\n      <td>1.0</td>\n      <td>NaN</td>\n      <td>2.0</td>\n      <td>1.0</td>\n      <td>2.0</td>\n      <td>NaN</td>\n    </tr>\n  </tbody>\n</table>\n<p>1 rows × 108 columns</p>\n</div>"
     },
     "execution_count": 45,
     "metadata": {},
     "output_type": "execute_result"
    }
   ],
   "source": [
    "combodata.loc[combodata['player_id'] == 4088]"
   ],
   "metadata": {
    "collapsed": false,
    "pycharm": {
     "name": "#%%\n"
    }
   }
  },
  {
   "cell_type": "code",
   "execution_count": 46,
   "outputs": [
    {
     "data": {
      "text/plain": "(1254, 108)"
     },
     "execution_count": 46,
     "metadata": {},
     "output_type": "execute_result"
    }
   ],
   "source": [
    "combodata.shape"
   ],
   "metadata": {
    "collapsed": false,
    "pycharm": {
     "name": "#%%\n"
    }
   }
  },
  {
   "cell_type": "code",
   "execution_count": 49,
   "outputs": [
    {
     "data": {
      "text/plain": "(1254, 9)"
     },
     "execution_count": 49,
     "metadata": {},
     "output_type": "execute_result"
    }
   ],
   "source": [
    "betterdata.shape"
   ],
   "metadata": {
    "collapsed": false,
    "pycharm": {
     "name": "#%%\n"
    }
   }
  },
  {
   "cell_type": "code",
   "execution_count": 36,
   "outputs": [
    {
     "data": {
      "text/plain": "(1254, 99)"
     },
     "execution_count": 36,
     "metadata": {},
     "output_type": "execute_result"
    }
   ],
   "source": [
    "test.shape"
   ],
   "metadata": {
    "collapsed": false,
    "pycharm": {
     "name": "#%%\n"
    }
   }
  },
  {
   "cell_type": "code",
   "execution_count": 48,
   "outputs": [
    {
     "data": {
      "text/plain": "1"
     },
     "execution_count": 48,
     "metadata": {},
     "output_type": "execute_result"
    }
   ],
   "source": [
    "combodata['player_id'].value_counts().max()"
   ],
   "metadata": {
    "collapsed": false,
    "pycharm": {
     "name": "#%%\n"
    }
   }
  },
  {
   "cell_type": "code",
   "execution_count": 92,
   "outputs": [
    {
     "data": {
      "text/plain": "Index(['Average Placement', 'Average Placement', 'Average Placement',\n       'Average Placement', 'Average Placement', 'Average Placement',\n       'Average Placement', 'Average Placement', 'Average Placement',\n       'Average Placement', 'Average Placement', 'Average Placement',\n       'Average Placement', 'Average Placement', 'Average Placement',\n       'Average Placement', 'Average Placement', 'Average Placement',\n       'Average Placement', 'Average Placement', 'Average Placement',\n       'Average Placement', 'Average Placement', 'Average Placement',\n       'Average Placement', 'Average Placement', 'Average Placement',\n       'Average Placement', 'Average Placement', 'Average Placement',\n       'Average Placement', 'Average Placement', 'Average Placement',\n       'Average Time', 'Average Time', 'Average Time', 'Average Time',\n       'Average Time', 'Average Time', 'Average Time', 'Average Time',\n       'Average Time', 'Average Time', 'Average Time', 'Average Time',\n       'Average Time', 'Average Time', 'Average Time', 'Average Time',\n       'Average Time', 'Average Time', 'Average Time', 'Average Time',\n       'Average Time', 'Average Time', 'Average Time', 'Average Time',\n       'Average Time', 'Average Time', 'Average Time', 'Average Time',\n       'Average Time', 'Average Time', 'Average Time', 'Average Time',\n       'Average Time', 'Races', 'Races', 'Races', 'Races', 'Races', 'Races',\n       'Races', 'Races', 'Races', 'Races', 'Races', 'Races', 'Races', 'Races',\n       'Races', 'Races', 'Races', 'Races', 'Races', 'Races', 'Races', 'Races',\n       'Races', 'Races', 'Races', 'Races', 'Races', 'Races', 'Races', 'Races',\n       'Races', 'Races', 'Races', 'player_id'],\n      dtype='object')"
     },
     "execution_count": 92,
     "metadata": {},
     "output_type": "execute_result"
    }
   ],
   "source": [
    "test.columns.droplevel(1)"
   ],
   "metadata": {
    "collapsed": false,
    "pycharm": {
     "name": "#%%\n"
    }
   }
  },
  {
   "cell_type": "code",
   "execution_count": 126,
   "outputs": [
    {
     "ename": "FileNotFoundError",
     "evalue": "[Errno 2] No such file or directory: 'datasets/loungedata'",
     "output_type": "error",
     "traceback": [
      "\u001B[1;31m---------------------------------------------------------------------------\u001B[0m",
      "\u001B[1;31mFileNotFoundError\u001B[0m                         Traceback (most recent call last)",
      "\u001B[1;32m~\\AppData\\Local\\Temp/ipykernel_13264/2256293152.py\u001B[0m in \u001B[0;36m<module>\u001B[1;34m\u001B[0m\n\u001B[1;32m----> 1\u001B[1;33m \u001B[0mt2\u001B[0m \u001B[1;33m=\u001B[0m \u001B[0mpd\u001B[0m\u001B[1;33m.\u001B[0m\u001B[0mread_csv\u001B[0m\u001B[1;33m(\u001B[0m\u001B[1;34m'datasets/loungedata'\u001B[0m\u001B[1;33m)\u001B[0m\u001B[1;33m\u001B[0m\u001B[1;33m\u001B[0m\u001B[0m\n\u001B[0m",
      "\u001B[1;32m~\\anaconda3\\envs\\aML\\lib\\site-packages\\pandas\\util\\_decorators.py\u001B[0m in \u001B[0;36mwrapper\u001B[1;34m(*args, **kwargs)\u001B[0m\n\u001B[0;32m    309\u001B[0m                     \u001B[0mstacklevel\u001B[0m\u001B[1;33m=\u001B[0m\u001B[0mstacklevel\u001B[0m\u001B[1;33m,\u001B[0m\u001B[1;33m\u001B[0m\u001B[1;33m\u001B[0m\u001B[0m\n\u001B[0;32m    310\u001B[0m                 )\n\u001B[1;32m--> 311\u001B[1;33m             \u001B[1;32mreturn\u001B[0m \u001B[0mfunc\u001B[0m\u001B[1;33m(\u001B[0m\u001B[1;33m*\u001B[0m\u001B[0margs\u001B[0m\u001B[1;33m,\u001B[0m \u001B[1;33m**\u001B[0m\u001B[0mkwargs\u001B[0m\u001B[1;33m)\u001B[0m\u001B[1;33m\u001B[0m\u001B[1;33m\u001B[0m\u001B[0m\n\u001B[0m\u001B[0;32m    312\u001B[0m \u001B[1;33m\u001B[0m\u001B[0m\n\u001B[0;32m    313\u001B[0m         \u001B[1;32mreturn\u001B[0m \u001B[0mwrapper\u001B[0m\u001B[1;33m\u001B[0m\u001B[1;33m\u001B[0m\u001B[0m\n",
      "\u001B[1;32m~\\anaconda3\\envs\\aML\\lib\\site-packages\\pandas\\io\\parsers\\readers.py\u001B[0m in \u001B[0;36mread_csv\u001B[1;34m(filepath_or_buffer, sep, delimiter, header, names, index_col, usecols, squeeze, prefix, mangle_dupe_cols, dtype, engine, converters, true_values, false_values, skipinitialspace, skiprows, skipfooter, nrows, na_values, keep_default_na, na_filter, verbose, skip_blank_lines, parse_dates, infer_datetime_format, keep_date_col, date_parser, dayfirst, cache_dates, iterator, chunksize, compression, thousands, decimal, lineterminator, quotechar, quoting, doublequote, escapechar, comment, encoding, encoding_errors, dialect, error_bad_lines, warn_bad_lines, on_bad_lines, delim_whitespace, low_memory, memory_map, float_precision, storage_options)\u001B[0m\n\u001B[0;32m    584\u001B[0m     \u001B[0mkwds\u001B[0m\u001B[1;33m.\u001B[0m\u001B[0mupdate\u001B[0m\u001B[1;33m(\u001B[0m\u001B[0mkwds_defaults\u001B[0m\u001B[1;33m)\u001B[0m\u001B[1;33m\u001B[0m\u001B[1;33m\u001B[0m\u001B[0m\n\u001B[0;32m    585\u001B[0m \u001B[1;33m\u001B[0m\u001B[0m\n\u001B[1;32m--> 586\u001B[1;33m     \u001B[1;32mreturn\u001B[0m \u001B[0m_read\u001B[0m\u001B[1;33m(\u001B[0m\u001B[0mfilepath_or_buffer\u001B[0m\u001B[1;33m,\u001B[0m \u001B[0mkwds\u001B[0m\u001B[1;33m)\u001B[0m\u001B[1;33m\u001B[0m\u001B[1;33m\u001B[0m\u001B[0m\n\u001B[0m\u001B[0;32m    587\u001B[0m \u001B[1;33m\u001B[0m\u001B[0m\n\u001B[0;32m    588\u001B[0m \u001B[1;33m\u001B[0m\u001B[0m\n",
      "\u001B[1;32m~\\anaconda3\\envs\\aML\\lib\\site-packages\\pandas\\io\\parsers\\readers.py\u001B[0m in \u001B[0;36m_read\u001B[1;34m(filepath_or_buffer, kwds)\u001B[0m\n\u001B[0;32m    480\u001B[0m \u001B[1;33m\u001B[0m\u001B[0m\n\u001B[0;32m    481\u001B[0m     \u001B[1;31m# Create the parser.\u001B[0m\u001B[1;33m\u001B[0m\u001B[1;33m\u001B[0m\u001B[0m\n\u001B[1;32m--> 482\u001B[1;33m     \u001B[0mparser\u001B[0m \u001B[1;33m=\u001B[0m \u001B[0mTextFileReader\u001B[0m\u001B[1;33m(\u001B[0m\u001B[0mfilepath_or_buffer\u001B[0m\u001B[1;33m,\u001B[0m \u001B[1;33m**\u001B[0m\u001B[0mkwds\u001B[0m\u001B[1;33m)\u001B[0m\u001B[1;33m\u001B[0m\u001B[1;33m\u001B[0m\u001B[0m\n\u001B[0m\u001B[0;32m    483\u001B[0m \u001B[1;33m\u001B[0m\u001B[0m\n\u001B[0;32m    484\u001B[0m     \u001B[1;32mif\u001B[0m \u001B[0mchunksize\u001B[0m \u001B[1;32mor\u001B[0m \u001B[0miterator\u001B[0m\u001B[1;33m:\u001B[0m\u001B[1;33m\u001B[0m\u001B[1;33m\u001B[0m\u001B[0m\n",
      "\u001B[1;32m~\\anaconda3\\envs\\aML\\lib\\site-packages\\pandas\\io\\parsers\\readers.py\u001B[0m in \u001B[0;36m__init__\u001B[1;34m(self, f, engine, **kwds)\u001B[0m\n\u001B[0;32m    809\u001B[0m             \u001B[0mself\u001B[0m\u001B[1;33m.\u001B[0m\u001B[0moptions\u001B[0m\u001B[1;33m[\u001B[0m\u001B[1;34m\"has_index_names\"\u001B[0m\u001B[1;33m]\u001B[0m \u001B[1;33m=\u001B[0m \u001B[0mkwds\u001B[0m\u001B[1;33m[\u001B[0m\u001B[1;34m\"has_index_names\"\u001B[0m\u001B[1;33m]\u001B[0m\u001B[1;33m\u001B[0m\u001B[1;33m\u001B[0m\u001B[0m\n\u001B[0;32m    810\u001B[0m \u001B[1;33m\u001B[0m\u001B[0m\n\u001B[1;32m--> 811\u001B[1;33m         \u001B[0mself\u001B[0m\u001B[1;33m.\u001B[0m\u001B[0m_engine\u001B[0m \u001B[1;33m=\u001B[0m \u001B[0mself\u001B[0m\u001B[1;33m.\u001B[0m\u001B[0m_make_engine\u001B[0m\u001B[1;33m(\u001B[0m\u001B[0mself\u001B[0m\u001B[1;33m.\u001B[0m\u001B[0mengine\u001B[0m\u001B[1;33m)\u001B[0m\u001B[1;33m\u001B[0m\u001B[1;33m\u001B[0m\u001B[0m\n\u001B[0m\u001B[0;32m    812\u001B[0m \u001B[1;33m\u001B[0m\u001B[0m\n\u001B[0;32m    813\u001B[0m     \u001B[1;32mdef\u001B[0m \u001B[0mclose\u001B[0m\u001B[1;33m(\u001B[0m\u001B[0mself\u001B[0m\u001B[1;33m)\u001B[0m\u001B[1;33m:\u001B[0m\u001B[1;33m\u001B[0m\u001B[1;33m\u001B[0m\u001B[0m\n",
      "\u001B[1;32m~\\anaconda3\\envs\\aML\\lib\\site-packages\\pandas\\io\\parsers\\readers.py\u001B[0m in \u001B[0;36m_make_engine\u001B[1;34m(self, engine)\u001B[0m\n\u001B[0;32m   1038\u001B[0m             )\n\u001B[0;32m   1039\u001B[0m         \u001B[1;31m# error: Too many arguments for \"ParserBase\"\u001B[0m\u001B[1;33m\u001B[0m\u001B[1;33m\u001B[0m\u001B[0m\n\u001B[1;32m-> 1040\u001B[1;33m         \u001B[1;32mreturn\u001B[0m \u001B[0mmapping\u001B[0m\u001B[1;33m[\u001B[0m\u001B[0mengine\u001B[0m\u001B[1;33m]\u001B[0m\u001B[1;33m(\u001B[0m\u001B[0mself\u001B[0m\u001B[1;33m.\u001B[0m\u001B[0mf\u001B[0m\u001B[1;33m,\u001B[0m \u001B[1;33m**\u001B[0m\u001B[0mself\u001B[0m\u001B[1;33m.\u001B[0m\u001B[0moptions\u001B[0m\u001B[1;33m)\u001B[0m  \u001B[1;31m# type: ignore[call-arg]\u001B[0m\u001B[1;33m\u001B[0m\u001B[1;33m\u001B[0m\u001B[0m\n\u001B[0m\u001B[0;32m   1041\u001B[0m \u001B[1;33m\u001B[0m\u001B[0m\n\u001B[0;32m   1042\u001B[0m     \u001B[1;32mdef\u001B[0m \u001B[0m_failover_to_python\u001B[0m\u001B[1;33m(\u001B[0m\u001B[0mself\u001B[0m\u001B[1;33m)\u001B[0m\u001B[1;33m:\u001B[0m\u001B[1;33m\u001B[0m\u001B[1;33m\u001B[0m\u001B[0m\n",
      "\u001B[1;32m~\\anaconda3\\envs\\aML\\lib\\site-packages\\pandas\\io\\parsers\\c_parser_wrapper.py\u001B[0m in \u001B[0;36m__init__\u001B[1;34m(self, src, **kwds)\u001B[0m\n\u001B[0;32m     49\u001B[0m \u001B[1;33m\u001B[0m\u001B[0m\n\u001B[0;32m     50\u001B[0m         \u001B[1;31m# open handles\u001B[0m\u001B[1;33m\u001B[0m\u001B[1;33m\u001B[0m\u001B[0m\n\u001B[1;32m---> 51\u001B[1;33m         \u001B[0mself\u001B[0m\u001B[1;33m.\u001B[0m\u001B[0m_open_handles\u001B[0m\u001B[1;33m(\u001B[0m\u001B[0msrc\u001B[0m\u001B[1;33m,\u001B[0m \u001B[0mkwds\u001B[0m\u001B[1;33m)\u001B[0m\u001B[1;33m\u001B[0m\u001B[1;33m\u001B[0m\u001B[0m\n\u001B[0m\u001B[0;32m     52\u001B[0m         \u001B[1;32massert\u001B[0m \u001B[0mself\u001B[0m\u001B[1;33m.\u001B[0m\u001B[0mhandles\u001B[0m \u001B[1;32mis\u001B[0m \u001B[1;32mnot\u001B[0m \u001B[1;32mNone\u001B[0m\u001B[1;33m\u001B[0m\u001B[1;33m\u001B[0m\u001B[0m\n\u001B[0;32m     53\u001B[0m \u001B[1;33m\u001B[0m\u001B[0m\n",
      "\u001B[1;32m~\\anaconda3\\envs\\aML\\lib\\site-packages\\pandas\\io\\parsers\\base_parser.py\u001B[0m in \u001B[0;36m_open_handles\u001B[1;34m(self, src, kwds)\u001B[0m\n\u001B[0;32m    220\u001B[0m         \u001B[0mLet\u001B[0m \u001B[0mthe\u001B[0m \u001B[0mreaders\u001B[0m \u001B[0mopen\u001B[0m \u001B[0mIOHandles\u001B[0m \u001B[0mafter\u001B[0m \u001B[0mthey\u001B[0m \u001B[0mare\u001B[0m \u001B[0mdone\u001B[0m \u001B[1;32mwith\u001B[0m \u001B[0mtheir\u001B[0m \u001B[0mpotential\u001B[0m \u001B[0mraises\u001B[0m\u001B[1;33m.\u001B[0m\u001B[1;33m\u001B[0m\u001B[1;33m\u001B[0m\u001B[0m\n\u001B[0;32m    221\u001B[0m         \"\"\"\n\u001B[1;32m--> 222\u001B[1;33m         self.handles = get_handle(\n\u001B[0m\u001B[0;32m    223\u001B[0m             \u001B[0msrc\u001B[0m\u001B[1;33m,\u001B[0m\u001B[1;33m\u001B[0m\u001B[1;33m\u001B[0m\u001B[0m\n\u001B[0;32m    224\u001B[0m             \u001B[1;34m\"r\"\u001B[0m\u001B[1;33m,\u001B[0m\u001B[1;33m\u001B[0m\u001B[1;33m\u001B[0m\u001B[0m\n",
      "\u001B[1;32m~\\anaconda3\\envs\\aML\\lib\\site-packages\\pandas\\io\\common.py\u001B[0m in \u001B[0;36mget_handle\u001B[1;34m(path_or_buf, mode, encoding, compression, memory_map, is_text, errors, storage_options)\u001B[0m\n\u001B[0;32m    700\u001B[0m         \u001B[1;32mif\u001B[0m \u001B[0mioargs\u001B[0m\u001B[1;33m.\u001B[0m\u001B[0mencoding\u001B[0m \u001B[1;32mand\u001B[0m \u001B[1;34m\"b\"\u001B[0m \u001B[1;32mnot\u001B[0m \u001B[1;32min\u001B[0m \u001B[0mioargs\u001B[0m\u001B[1;33m.\u001B[0m\u001B[0mmode\u001B[0m\u001B[1;33m:\u001B[0m\u001B[1;33m\u001B[0m\u001B[1;33m\u001B[0m\u001B[0m\n\u001B[0;32m    701\u001B[0m             \u001B[1;31m# Encoding\u001B[0m\u001B[1;33m\u001B[0m\u001B[1;33m\u001B[0m\u001B[0m\n\u001B[1;32m--> 702\u001B[1;33m             handle = open(\n\u001B[0m\u001B[0;32m    703\u001B[0m                 \u001B[0mhandle\u001B[0m\u001B[1;33m,\u001B[0m\u001B[1;33m\u001B[0m\u001B[1;33m\u001B[0m\u001B[0m\n\u001B[0;32m    704\u001B[0m                 \u001B[0mioargs\u001B[0m\u001B[1;33m.\u001B[0m\u001B[0mmode\u001B[0m\u001B[1;33m,\u001B[0m\u001B[1;33m\u001B[0m\u001B[1;33m\u001B[0m\u001B[0m\n",
      "\u001B[1;31mFileNotFoundError\u001B[0m: [Errno 2] No such file or directory: 'datasets/loungedata'"
     ]
    }
   ],
   "source": [
    "t2 = pd.read_csv('datasets/loungedata')"
   ],
   "metadata": {
    "collapsed": false,
    "pycharm": {
     "name": "#%%\n"
    }
   }
  },
  {
   "cell_type": "code",
   "execution_count": 64,
   "outputs": [],
   "source": [
    "t2.columns = [' '.join(col).strip() for col in t2.columns.values]\n",
    "t2.columns = [' '.replace('(nintendo)','') for col in t2.columns.values]"
   ],
   "metadata": {
    "collapsed": false,
    "pycharm": {
     "name": "#%%\n"
    }
   }
  },
  {
   "cell_type": "code",
   "execution_count": 55,
   "outputs": [],
   "source": [
    "t2.drop(['Average Time -','Average Placement -', 'Races -'], axis=1, inplace=True)"
   ],
   "metadata": {
    "collapsed": false,
    "pycharm": {
     "name": "#%%\n"
    }
   }
  },
  {
   "cell_type": "code",
   "execution_count": 65,
   "outputs": [
    {
     "data": {
      "text/plain": "                                                          ...                \\\nEngine                                                    ...                 \n0       5th  5th  5th  4th  5th  3rd  5th  4th  5th  5th  ...   46.0   59.0   \n1       6th  5th  5th  5th  5th  5th  5th  6th  6th  6th  ...  146.0  121.0   \n2       6th  5th  6th  4th  5th  9th  5th  5th  6th  5th  ...   61.0   67.0   \n3       5th  5th  5th  5th  5th  5th  5th  7th  5th  5th  ...   55.0   43.0   \n4       6th  5th  5th  6th  5th  3rd  4th  6th  6th  5th  ...   58.0   54.0   \n\n                                                          \nEngine                                                    \n0       24.0  17.0   97.0  128.0  16.0  39.0  14.0   260  \n1       61.0  24.0  217.0  304.0  36.0  79.0  54.0  1207  \n2       22.0  21.0   87.0  122.0  18.0  42.0  34.0   290  \n3       26.0  19.0  102.0  104.0   7.0  36.0  22.0  1614  \n4       20.0  15.0   62.0  104.0  13.0  31.0  22.0  1043  \n\n[5 rows x 97 columns]",
      "text/html": "<div>\n<style scoped>\n    .dataframe tbody tr th:only-of-type {\n        vertical-align: middle;\n    }\n\n    .dataframe tbody tr th {\n        vertical-align: top;\n    }\n\n    .dataframe thead th {\n        text-align: right;\n    }\n</style>\n<table border=\"1\" class=\"dataframe\">\n  <thead>\n    <tr style=\"text-align: right;\">\n      <th></th>\n      <th></th>\n      <th></th>\n      <th></th>\n      <th></th>\n      <th></th>\n      <th></th>\n      <th></th>\n      <th></th>\n      <th></th>\n      <th></th>\n      <th>...</th>\n      <th></th>\n      <th></th>\n      <th></th>\n      <th></th>\n      <th></th>\n      <th></th>\n      <th></th>\n      <th></th>\n      <th></th>\n      <th></th>\n    </tr>\n    <tr>\n      <th>Engine</th>\n      <th></th>\n      <th></th>\n      <th></th>\n      <th></th>\n      <th></th>\n      <th></th>\n      <th></th>\n      <th></th>\n      <th></th>\n      <th></th>\n      <th></th>\n      <th></th>\n      <th></th>\n      <th></th>\n      <th></th>\n      <th></th>\n      <th></th>\n      <th></th>\n      <th></th>\n      <th></th>\n      <th></th>\n    </tr>\n  </thead>\n  <tbody>\n    <tr>\n      <th>0</th>\n      <td>5th</td>\n      <td>5th</td>\n      <td>5th</td>\n      <td>4th</td>\n      <td>5th</td>\n      <td>3rd</td>\n      <td>5th</td>\n      <td>4th</td>\n      <td>5th</td>\n      <td>5th</td>\n      <td>...</td>\n      <td>46.0</td>\n      <td>59.0</td>\n      <td>24.0</td>\n      <td>17.0</td>\n      <td>97.0</td>\n      <td>128.0</td>\n      <td>16.0</td>\n      <td>39.0</td>\n      <td>14.0</td>\n      <td>260</td>\n    </tr>\n    <tr>\n      <th>1</th>\n      <td>6th</td>\n      <td>5th</td>\n      <td>5th</td>\n      <td>5th</td>\n      <td>5th</td>\n      <td>5th</td>\n      <td>5th</td>\n      <td>6th</td>\n      <td>6th</td>\n      <td>6th</td>\n      <td>...</td>\n      <td>146.0</td>\n      <td>121.0</td>\n      <td>61.0</td>\n      <td>24.0</td>\n      <td>217.0</td>\n      <td>304.0</td>\n      <td>36.0</td>\n      <td>79.0</td>\n      <td>54.0</td>\n      <td>1207</td>\n    </tr>\n    <tr>\n      <th>2</th>\n      <td>6th</td>\n      <td>5th</td>\n      <td>6th</td>\n      <td>4th</td>\n      <td>5th</td>\n      <td>9th</td>\n      <td>5th</td>\n      <td>5th</td>\n      <td>6th</td>\n      <td>5th</td>\n      <td>...</td>\n      <td>61.0</td>\n      <td>67.0</td>\n      <td>22.0</td>\n      <td>21.0</td>\n      <td>87.0</td>\n      <td>122.0</td>\n      <td>18.0</td>\n      <td>42.0</td>\n      <td>34.0</td>\n      <td>290</td>\n    </tr>\n    <tr>\n      <th>3</th>\n      <td>5th</td>\n      <td>5th</td>\n      <td>5th</td>\n      <td>5th</td>\n      <td>5th</td>\n      <td>5th</td>\n      <td>5th</td>\n      <td>7th</td>\n      <td>5th</td>\n      <td>5th</td>\n      <td>...</td>\n      <td>55.0</td>\n      <td>43.0</td>\n      <td>26.0</td>\n      <td>19.0</td>\n      <td>102.0</td>\n      <td>104.0</td>\n      <td>7.0</td>\n      <td>36.0</td>\n      <td>22.0</td>\n      <td>1614</td>\n    </tr>\n    <tr>\n      <th>4</th>\n      <td>6th</td>\n      <td>5th</td>\n      <td>5th</td>\n      <td>6th</td>\n      <td>5th</td>\n      <td>3rd</td>\n      <td>4th</td>\n      <td>6th</td>\n      <td>6th</td>\n      <td>5th</td>\n      <td>...</td>\n      <td>58.0</td>\n      <td>54.0</td>\n      <td>20.0</td>\n      <td>15.0</td>\n      <td>62.0</td>\n      <td>104.0</td>\n      <td>13.0</td>\n      <td>31.0</td>\n      <td>22.0</td>\n      <td>1043</td>\n    </tr>\n  </tbody>\n</table>\n<p>5 rows × 97 columns</p>\n</div>"
     },
     "execution_count": 65,
     "metadata": {},
     "output_type": "execute_result"
    }
   ],
   "source": [
    "t2.head()"
   ],
   "metadata": {
    "collapsed": false,
    "pycharm": {
     "name": "#%%\n"
    }
   }
  },
  {
   "cell_type": "code",
   "execution_count": null,
   "outputs": [],
   "source": [],
   "metadata": {
    "collapsed": false,
    "pycharm": {
     "name": "#%%\n"
    }
   }
  }
 ],
 "metadata": {
  "interpreter": {
   "hash": "ff806b1f76a970c4dbf5ef15bacc13a53e5bd651933efa3473616668a30f3d02"
  },
  "kernelspec": {
   "display_name": "Python 3.9.7 ('appML')",
   "language": "python",
   "name": "python3"
  },
  "language_info": {
   "codemirror_mode": {
    "name": "ipython",
    "version": 3
   },
   "file_extension": ".py",
   "mimetype": "text/x-python",
   "name": "python",
   "nbconvert_exporter": "python",
   "pygments_lexer": "ipython3",
   "version": "3.9.7"
  },
  "orig_nbformat": 4
 },
 "nbformat": 4,
 "nbformat_minor": 2
}