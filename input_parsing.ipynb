{
 "cells": [
  {
   "cell_type": "code",
   "execution_count": 70,
   "metadata": {},
   "outputs": [],
   "source": [
    "from bs4 import BeautifulSoup as bs\n",
    "import pandas as pd\n",
    "pd.set_option('display.max_colwidth', 500)\n",
    "import numpy as np\n",
    "import time\n",
    "import requests\n",
    "import random\n",
    "import aiohttp\n",
    "import seaborn as sns\n",
    "import re\n",
    "import csv"
   ]
  },
  {
   "cell_type": "code",
   "execution_count": 67,
   "metadata": {},
   "outputs": [],
   "source": [
    "def formatTrackData(df, index):\n",
    "    # df.drop(['Average Points', 'Fastest Time', 'Slowest Time'], axis=1, inplace=True)\n",
    "    melted = df.pivot(index = 'Engine', columns='Track')\n",
    "    melted = melted.drop('Mirror', axis=0, errors='ignore')\n",
    "    melted = melted.drop('100cc', axis=0, errors='ignore')\n",
    "    melted = melted.rename(index={'150cc': index})\n",
    "    return melted"
   ]
  },
  {
   "cell_type": "code",
   "execution_count": 23,
   "metadata": {},
   "outputs": [],
   "source": [
    "prefixes = ['GCN', 'DS', 'GBA', 'N64','SNES']"
   ]
  },
  {
   "cell_type": "code",
   "execution_count": 3,
   "metadata": {},
   "outputs": [],
   "source": [
    "tracks = '''+ Track Name                   Avg Pts    Avg Place    Best Time    # Plays\n",
    "---------------------------  ---------  -----------  -----------  ---------\n",
    "1.  GCN Waluigi Stadium          11.25         2.75         2:11          4\n",
    "2.  N64 DK's Jungle Parkway      10.20         3.40         2:29          5\n",
    "3.  Mario Circuit                10.00         3.00         1:38          1\n",
    "4.  N64 Mario Raceway            10.00         3.00         1:53          1\n",
    "5.  Luigi Circuit                 9.67         4.33         1:19          3\n",
    "6.  Toad's Factory                9.50         3.75         2:04          4\n",
    "7.  Maple Treeway                 9.50         4.00         2:37          2\n",
    "8.  Mushroom Gorge                9.33         4.33         1:56          3\n",
    "9.  Grumble Volcano               9.17         4.50         2:05          6\n",
    "10. SNES Ghost Valley 2           9.00         3.67         1:03          3\n",
    "11. SNES Mario Circuit 3          8.75         5.00         1:32          4\n",
    "12. Rainbow Road                  8.00         4.00         2:55          1\n",
    "13. GCN Peach Beach               8.00         5.00         1:28          2\n",
    "14. N64 Bowser's Castle           7.67         5.17         2:59          6\n",
    "15. GBA Shy Guy Beach             7.50         5.50         1:43          2\n",
    "16. Koopa Cape                7.00         5.00         2:47          1\n",
    "17. DS Desert Hills           7.00         5.00         1:58          1\n",
    "18. GBA Bowser Castle 3       6.40         5.60         2:39          5\n",
    "19. DS Delfino Square         5.86         6.71         2:26          7\n",
    "20. GCN DK Mountain           5.80         6.20         2:31          5\n",
    "21. DS Peach Gardens          5.00         7.33         2:22          3\n",
    "22. Bowser's Castle           4.00         7.00         2:46          1\n",
    "23. Moonview Highway          3.00         8.50         2:08          2\n",
    "24. DK Summit                 2.33         9.33         2:17          3\n",
    "25. Dry Dry Ruins             2.25         9.75         2:15          4\n",
    "26. N64 Sherbet Land          1.00        11.00         2:35          1\n",
    "27. Moo Moo Meadows           0.00        12.00         1:38          1'''"
   ]
  },
  {
   "cell_type": "code",
   "execution_count": 4,
   "metadata": {},
   "outputs": [
    {
     "name": "stdout",
     "output_type": "stream",
     "text": [
      "+ Track Name                   Avg Pts    Avg Place    Best Time    # Plays\n",
      "---------------------------  ---------  -----------  -----------  ---------\n",
      "1.  GCN Waluigi Stadium          11.25         2.75         2:11          4\n",
      "2.  N64 DK's Jungle Parkway      10.20         3.40         2:29          5\n",
      "3.  Mario Circuit                10.00         3.00         1:38          1\n",
      "4.  N64 Mario Raceway            10.00         3.00         1:53          1\n",
      "5.  Luigi Circuit                 9.67         4.33         1:19          3\n",
      "6.  Toad's Factory                9.50         3.75         2:04          4\n",
      "7.  Maple Treeway                 9.50         4.00         2:37          2\n",
      "8.  Mushroom Gorge                9.33         4.33         1:56          3\n",
      "9.  Grumble Volcano               9.17         4.50         2:05          6\n",
      "10. SNES Ghost Valley 2           9.00         3.67         1:03          3\n",
      "11. SNES Mario Circuit 3          8.75         5.00         1:32          4\n",
      "12. Rainbow Road                  8.00         4.00         2:55          1\n",
      "13. GCN Peach Beach               8.00         5.00         1:28          2\n",
      "14. N64 Bowser's Castle           7.67         5.17         2:59          6\n",
      "15. GBA Shy Guy Beach             7.50         5.50         1:43          2\n",
      "16. Koopa Cape                7.00         5.00         2:47          1\n",
      "17. DS Desert Hills           7.00         5.00         1:58          1\n",
      "18. GBA Bowser Castle 3       6.40         5.60         2:39          5\n",
      "19. DS Delfino Square         5.86         6.71         2:26          7\n",
      "20. GCN DK Mountain           5.80         6.20         2:31          5\n",
      "21. DS Peach Gardens          5.00         7.33         2:22          3\n",
      "22. Bowser's Castle           4.00         7.00         2:46          1\n",
      "23. Moonview Highway          3.00         8.50         2:08          2\n",
      "24. DK Summit                 2.33         9.33         2:17          3\n",
      "25. Dry Dry Ruins             2.25         9.75         2:15          4\n",
      "26. N64 Sherbet Land          1.00        11.00         2:35          1\n",
      "27. Moo Moo Meadows           0.00        12.00         1:38          1\n"
     ]
    }
   ],
   "source": [
    "print(tracks)"
   ]
  },
  {
   "cell_type": "code",
   "execution_count": 9,
   "metadata": {},
   "outputs": [
    {
     "name": "stdout",
     "output_type": "stream",
     "text": [
      "27\n"
     ]
    }
   ],
   "source": [
    "lines = tracks.split('\\n')\n",
    "lines = lines[2:]\n",
    "print(len(lines))\n"
   ]
  },
  {
   "cell_type": "code",
   "execution_count": 26,
   "metadata": {},
   "outputs": [
    {
     "name": "stdout",
     "output_type": "stream",
     "text": [
      "['Mario', 'Circuit', '10.00', '3.00', '1:38', '1']\n"
     ]
    }
   ],
   "source": [
    "t1 = lines[2].split(' ')\n",
    "t1 = list(filter(bool, t1))\n",
    "t1 = t1[1:]\n",
    "print(t1)"
   ]
  },
  {
   "cell_type": "code",
   "execution_count": 27,
   "metadata": {},
   "outputs": [],
   "source": [
    "if t1[0] in prefixes:\n",
    "    print('track is a retro')\n",
    "else:\n",
    "    "
   ]
  },
  {
   "cell_type": "code",
   "execution_count": 58,
   "metadata": {},
   "outputs": [
    {
     "name": "stdout",
     "output_type": "stream",
     "text": [
      "track is a retro\n",
      "track is a retro\n",
      "Wii\n",
      "track is a retro\n",
      "Wii\n",
      "Wii\n",
      "Wii\n",
      "Wii\n",
      "Wii\n",
      "track is a retro\n",
      "track is a retro\n",
      "Wii\n",
      "track is a retro\n",
      "track is a retro\n",
      "track is a retro\n",
      "Wii\n",
      "track is a retro\n",
      "track is a retro\n",
      "track is a retro\n",
      "track is a retro\n",
      "track is a retro\n",
      "Wii\n",
      "Wii\n",
      "Wii\n",
      "Wii\n",
      "track is a retro\n",
      "Wii\n"
     ]
    }
   ],
   "source": [
    "tracklist = []\n",
    "for line in lines:\n",
    "    sp = line.split(' ')\n",
    "    sp = list(filter(bool, sp))\n",
    "    sp = sp[1:]\n",
    "    if sp[0] in prefixes:\n",
    "        print('track is a retro')\n",
    "    else:\n",
    "        sp.insert(0, 'Wii')\n",
    "        print(sp[0])\n",
    "    tracklist.append(sp)\n",
    "    \n"
   ]
  },
  {
   "cell_type": "code",
   "execution_count": 41,
   "metadata": {},
   "outputs": [
    {
     "name": "stdout",
     "output_type": "stream",
     "text": [
      "[['GCN', 'Waluigi', 'Stadium', '11.25', '2.75', '2:11', '4'], ['N64', \"DK's\", 'Jungle', 'Parkway', '10.20', '3.40', '2:29', '5'], ['Wii', 'Mario', 'Circuit', '10.00', '3.00', '1:38', '1'], ['N64', 'Mario', 'Raceway', '10.00', '3.00', '1:53', '1'], ['Wii', 'Luigi', 'Circuit', '9.67', '4.33', '1:19', '3'], ['Wii', \"Toad's\", 'Factory', '9.50', '3.75', '2:04', '4'], ['Wii', 'Maple', 'Treeway', '9.50', '4.00', '2:37', '2'], ['Wii', 'Mushroom', 'Gorge', '9.33', '4.33', '1:56', '3'], ['Wii', 'Grumble', 'Volcano', '9.17', '4.50', '2:05', '6'], ['SNES', 'Ghost', 'Valley', '2', '9.00', '3.67', '1:03', '3'], ['SNES', 'Mario', 'Circuit', '3', '8.75', '5.00', '1:32', '4'], ['Wii', 'Rainbow', 'Road', '8.00', '4.00', '2:55', '1'], ['GCN', 'Peach', 'Beach', '8.00', '5.00', '1:28', '2'], ['N64', \"Bowser's\", 'Castle', '7.67', '5.17', '2:59', '6'], ['GBA', 'Shy', 'Guy', 'Beach', '7.50', '5.50', '1:43', '2'], ['Wii', 'Koopa', 'Cape', '7.00', '5.00', '2:47', '1'], ['DS', 'Desert', 'Hills', '7.00', '5.00', '1:58', '1'], ['GBA', 'Bowser', 'Castle', '3', '6.40', '5.60', '2:39', '5'], ['DS', 'Delfino', 'Square', '5.86', '6.71', '2:26', '7'], ['GCN', 'DK', 'Mountain', '5.80', '6.20', '2:31', '5'], ['DS', 'Peach', 'Gardens', '5.00', '7.33', '2:22', '3'], ['Wii', \"Bowser's\", 'Castle', '4.00', '7.00', '2:46', '1'], ['Wii', 'Moonview', 'Highway', '3.00', '8.50', '2:08', '2'], ['Wii', 'DK', 'Summit', '2.33', '9.33', '2:17', '3'], ['Wii', 'Dry', 'Dry', 'Ruins', '2.25', '9.75', '2:15', '4'], ['N64', 'Sherbet', 'Land', '1.00', '11.00', '2:35', '1'], ['Wii', 'Moo', 'Moo', 'Meadows', '0.00', '12.00', '1:38', '1']]\n"
     ]
    }
   ],
   "source": [
    "print(tracklist)"
   ]
  },
  {
   "cell_type": "code",
   "execution_count": 59,
   "metadata": {},
   "outputs": [
    {
     "name": "stdout",
     "output_type": "stream",
     "text": [
      "['GCN Waluigi Stadium', '11.25', '2.75', '2:11', '4']\n"
     ]
    }
   ],
   "source": [
    "track = tracklist[0]\n",
    "track[0 : -4] = [\" \".join(track[0: -4])]\n",
    "print(track)"
   ]
  },
  {
   "cell_type": "code",
   "execution_count": 60,
   "metadata": {},
   "outputs": [
    {
     "name": "stdout",
     "output_type": "stream",
     "text": [
      "['GCN Waluigi Stadium', '11.25', '2.75', '2:11', '4']\n",
      "[\"N64 DK's Jungle Parkway\", '10.20', '3.40', '2:29', '5']\n",
      "['Wii Mario Circuit', '10.00', '3.00', '1:38', '1']\n",
      "['N64 Mario Raceway', '10.00', '3.00', '1:53', '1']\n",
      "['Wii Luigi Circuit', '9.67', '4.33', '1:19', '3']\n",
      "[\"Wii Toad's Factory\", '9.50', '3.75', '2:04', '4']\n",
      "['Wii Maple Treeway', '9.50', '4.00', '2:37', '2']\n",
      "['Wii Mushroom Gorge', '9.33', '4.33', '1:56', '3']\n",
      "['Wii Grumble Volcano', '9.17', '4.50', '2:05', '6']\n",
      "['SNES Ghost Valley 2', '9.00', '3.67', '1:03', '3']\n",
      "['SNES Mario Circuit 3', '8.75', '5.00', '1:32', '4']\n",
      "['Wii Rainbow Road', '8.00', '4.00', '2:55', '1']\n",
      "['GCN Peach Beach', '8.00', '5.00', '1:28', '2']\n",
      "[\"N64 Bowser's Castle\", '7.67', '5.17', '2:59', '6']\n",
      "['GBA Shy Guy Beach', '7.50', '5.50', '1:43', '2']\n",
      "['Wii Koopa Cape', '7.00', '5.00', '2:47', '1']\n",
      "['DS Desert Hills', '7.00', '5.00', '1:58', '1']\n",
      "['GBA Bowser Castle 3', '6.40', '5.60', '2:39', '5']\n",
      "['DS Delfino Square', '5.86', '6.71', '2:26', '7']\n",
      "['GCN DK Mountain', '5.80', '6.20', '2:31', '5']\n",
      "['DS Peach Gardens', '5.00', '7.33', '2:22', '3']\n",
      "[\"Wii Bowser's Castle\", '4.00', '7.00', '2:46', '1']\n",
      "['Wii Moonview Highway', '3.00', '8.50', '2:08', '2']\n",
      "['Wii DK Summit', '2.33', '9.33', '2:17', '3']\n",
      "['Wii Dry Dry Ruins', '2.25', '9.75', '2:15', '4']\n",
      "['N64 Sherbet Land', '1.00', '11.00', '2:35', '1']\n",
      "['Wii Moo Moo Meadows', '0.00', '12.00', '1:38', '1']\n"
     ]
    }
   ],
   "source": [
    "for track in tracklist:\n",
    "    track[0 : -4] = [\" \".join(track[0: -4])]\n",
    "    print(track)"
   ]
  },
  {
   "cell_type": "code",
   "execution_count": 69,
   "metadata": {},
   "outputs": [
    {
     "data": {
      "text/html": [
       "<div>\n",
       "<style scoped>\n",
       "    .dataframe tbody tr th:only-of-type {\n",
       "        vertical-align: middle;\n",
       "    }\n",
       "\n",
       "    .dataframe tbody tr th {\n",
       "        vertical-align: top;\n",
       "    }\n",
       "\n",
       "    .dataframe thead th {\n",
       "        text-align: right;\n",
       "    }\n",
       "</style>\n",
       "<table border=\"1\" class=\"dataframe\">\n",
       "  <thead>\n",
       "    <tr style=\"text-align: right;\">\n",
       "      <th></th>\n",
       "      <th>Track</th>\n",
       "      <th>AP</th>\n",
       "      <th>BT</th>\n",
       "      <th>R</th>\n",
       "      <th>Engine</th>\n",
       "    </tr>\n",
       "  </thead>\n",
       "  <tbody>\n",
       "    <tr>\n",
       "      <th>0</th>\n",
       "      <td>GCN Waluigi Stadium</td>\n",
       "      <td>2.75</td>\n",
       "      <td>2:11</td>\n",
       "      <td>4</td>\n",
       "      <td>150cc</td>\n",
       "    </tr>\n",
       "    <tr>\n",
       "      <th>1</th>\n",
       "      <td>N64 DK's Jungle Parkway</td>\n",
       "      <td>3.40</td>\n",
       "      <td>2:29</td>\n",
       "      <td>5</td>\n",
       "      <td>150cc</td>\n",
       "    </tr>\n",
       "    <tr>\n",
       "      <th>2</th>\n",
       "      <td>Wii Mario Circuit</td>\n",
       "      <td>3.00</td>\n",
       "      <td>1:38</td>\n",
       "      <td>1</td>\n",
       "      <td>150cc</td>\n",
       "    </tr>\n",
       "    <tr>\n",
       "      <th>3</th>\n",
       "      <td>N64 Mario Raceway</td>\n",
       "      <td>3.00</td>\n",
       "      <td>1:53</td>\n",
       "      <td>1</td>\n",
       "      <td>150cc</td>\n",
       "    </tr>\n",
       "    <tr>\n",
       "      <th>4</th>\n",
       "      <td>Wii Luigi Circuit</td>\n",
       "      <td>4.33</td>\n",
       "      <td>1:19</td>\n",
       "      <td>3</td>\n",
       "      <td>150cc</td>\n",
       "    </tr>\n",
       "  </tbody>\n",
       "</table>\n",
       "</div>"
      ],
      "text/plain": [
       "                     Track    AP    BT  R Engine\n",
       "0      GCN Waluigi Stadium  2.75  2:11  4  150cc\n",
       "1  N64 DK's Jungle Parkway  3.40  2:29  5  150cc\n",
       "2        Wii Mario Circuit  3.00  1:38  1  150cc\n",
       "3        N64 Mario Raceway  3.00  1:53  1  150cc\n",
       "4        Wii Luigi Circuit  4.33  1:19  3  150cc"
      ]
     },
     "execution_count": 69,
     "metadata": {},
     "output_type": "execute_result"
    }
   ],
   "source": [
    "testing = pd.DataFrame(tracklist, columns=['Track', 'Avg Pts', 'AP', 'BT', 'R'])\n",
    "testing = testing.drop('Avg Pts', axis=1)\n",
    "testing['Engine'] = '150cc'\n",
    "testing.head()\n",
    "\n"
   ]
  },
  {
   "cell_type": "code",
   "execution_count": 68,
   "metadata": {},
   "outputs": [
    {
     "data": {
      "text/html": [
       "<div>\n",
       "<style scoped>\n",
       "    .dataframe tbody tr th:only-of-type {\n",
       "        vertical-align: middle;\n",
       "    }\n",
       "\n",
       "    .dataframe tbody tr th {\n",
       "        vertical-align: top;\n",
       "    }\n",
       "\n",
       "    .dataframe thead tr th {\n",
       "        text-align: left;\n",
       "    }\n",
       "\n",
       "    .dataframe thead tr:last-of-type th {\n",
       "        text-align: right;\n",
       "    }\n",
       "</style>\n",
       "<table border=\"1\" class=\"dataframe\">\n",
       "  <thead>\n",
       "    <tr>\n",
       "      <th></th>\n",
       "      <th colspan=\"10\" halign=\"left\">AP</th>\n",
       "      <th>...</th>\n",
       "      <th colspan=\"10\" halign=\"left\">R</th>\n",
       "    </tr>\n",
       "    <tr>\n",
       "      <th>Track</th>\n",
       "      <th>DS Delfino Square</th>\n",
       "      <th>DS Desert Hills</th>\n",
       "      <th>DS Peach Gardens</th>\n",
       "      <th>GBA Bowser Castle 3</th>\n",
       "      <th>GBA Shy Guy Beach</th>\n",
       "      <th>GCN DK Mountain</th>\n",
       "      <th>GCN Peach Beach</th>\n",
       "      <th>GCN Waluigi Stadium</th>\n",
       "      <th>N64 Bowser's Castle</th>\n",
       "      <th>N64 DK's Jungle Parkway</th>\n",
       "      <th>...</th>\n",
       "      <th>Wii Grumble Volcano</th>\n",
       "      <th>Wii Koopa Cape</th>\n",
       "      <th>Wii Luigi Circuit</th>\n",
       "      <th>Wii Maple Treeway</th>\n",
       "      <th>Wii Mario Circuit</th>\n",
       "      <th>Wii Moo Moo Meadows</th>\n",
       "      <th>Wii Moonview Highway</th>\n",
       "      <th>Wii Mushroom Gorge</th>\n",
       "      <th>Wii Rainbow Road</th>\n",
       "      <th>Wii Toad's Factory</th>\n",
       "    </tr>\n",
       "    <tr>\n",
       "      <th>Engine</th>\n",
       "      <th></th>\n",
       "      <th></th>\n",
       "      <th></th>\n",
       "      <th></th>\n",
       "      <th></th>\n",
       "      <th></th>\n",
       "      <th></th>\n",
       "      <th></th>\n",
       "      <th></th>\n",
       "      <th></th>\n",
       "      <th></th>\n",
       "      <th></th>\n",
       "      <th></th>\n",
       "      <th></th>\n",
       "      <th></th>\n",
       "      <th></th>\n",
       "      <th></th>\n",
       "      <th></th>\n",
       "      <th></th>\n",
       "      <th></th>\n",
       "      <th></th>\n",
       "    </tr>\n",
       "  </thead>\n",
       "  <tbody>\n",
       "    <tr>\n",
       "      <th>0</th>\n",
       "      <td>6.71</td>\n",
       "      <td>5.00</td>\n",
       "      <td>7.33</td>\n",
       "      <td>5.60</td>\n",
       "      <td>5.50</td>\n",
       "      <td>6.20</td>\n",
       "      <td>5.00</td>\n",
       "      <td>2.75</td>\n",
       "      <td>5.17</td>\n",
       "      <td>3.40</td>\n",
       "      <td>...</td>\n",
       "      <td>6</td>\n",
       "      <td>1</td>\n",
       "      <td>3</td>\n",
       "      <td>2</td>\n",
       "      <td>1</td>\n",
       "      <td>1</td>\n",
       "      <td>2</td>\n",
       "      <td>3</td>\n",
       "      <td>1</td>\n",
       "      <td>4</td>\n",
       "    </tr>\n",
       "  </tbody>\n",
       "</table>\n",
       "<p>1 rows × 81 columns</p>\n",
       "</div>"
      ],
      "text/plain": [
       "                      AP                                                       \\\n",
       "Track  DS Delfino Square DS Desert Hills DS Peach Gardens GBA Bowser Castle 3   \n",
       "Engine                                                                          \n",
       "0                   6.71            5.00             7.33                5.60   \n",
       "\n",
       "                                                                              \\\n",
       "Track  GBA Shy Guy Beach GCN DK Mountain GCN Peach Beach GCN Waluigi Stadium   \n",
       "Engine                                                                         \n",
       "0                   5.50            6.20            5.00                2.75   \n",
       "\n",
       "                                                    ...                   R  \\\n",
       "Track  N64 Bowser's Castle N64 DK's Jungle Parkway  ... Wii Grumble Volcano   \n",
       "Engine                                              ...                       \n",
       "0                     5.17                    3.40  ...                   6   \n",
       "\n",
       "                                                                             \\\n",
       "Track  Wii Koopa Cape Wii Luigi Circuit Wii Maple Treeway Wii Mario Circuit   \n",
       "Engine                                                                        \n",
       "0                   1                 3                 2                 1   \n",
       "\n",
       "                                                                    \\\n",
       "Track  Wii Moo Moo Meadows Wii Moonview Highway Wii Mushroom Gorge   \n",
       "Engine                                                               \n",
       "0                        1                    2                  3   \n",
       "\n",
       "                                            \n",
       "Track  Wii Rainbow Road Wii Toad's Factory  \n",
       "Engine                                      \n",
       "0                     1                  4  \n",
       "\n",
       "[1 rows x 81 columns]"
      ]
     },
     "execution_count": 68,
     "metadata": {},
     "output_type": "execute_result"
    }
   ],
   "source": [
    "t2 = formatTrackData(testing, 0)\n",
    "t2.head()"
   ]
  },
  {
   "cell_type": "code",
   "execution_count": 81,
   "metadata": {},
   "outputs": [
    {
     "data": {
      "text/plain": [
       "'DS Delfino Square'"
      ]
     },
     "execution_count": 81,
     "metadata": {},
     "output_type": "execute_result"
    }
   ],
   "source": [
    "with open('datasets/tracks', 'r') as f:\n",
    "    reader = csv.reader(f)\n",
    "    track_names = list(reader)\n",
    "track_names = track_names[0]\n",
    "track_names[0]"
   ]
  },
  {
   "cell_type": "code",
   "execution_count": 86,
   "metadata": {},
   "outputs": [
    {
     "name": "stdout",
     "output_type": "stream",
     "text": [
      "['GCN Waluigi Stadium', \"N64 DK's Jungle Parkway\", 'Wii Mario Circuit', 'N64 Mario Raceway', 'Wii Luigi Circuit', \"Wii Toad's Factory\", 'Wii Maple Treeway', 'Wii Mushroom Gorge', 'Wii Grumble Volcano', 'SNES Ghost Valley 2', 'SNES Mario Circuit 3', 'Wii Rainbow Road', 'GCN Peach Beach', \"N64 Bowser's Castle\", 'GBA Shy Guy Beach', 'Wii Koopa Cape', 'DS Desert Hills', 'GBA Bowser Castle 3', 'DS Delfino Square', 'GCN DK Mountain', 'DS Peach Gardens', \"Wii Bowser's Castle\", 'Wii Moonview Highway', 'Wii DK Summit', 'Wii Dry Dry Ruins', 'N64 Sherbet Land', 'Wii Moo Moo Meadows']\n"
     ]
    }
   ],
   "source": [
    "tracks_inc = testing['Track'].to_list()\n",
    "print(tracks_inc)"
   ]
  },
  {
   "cell_type": "code",
   "execution_count": 88,
   "metadata": {},
   "outputs": [
    {
     "name": "stdout",
     "output_type": "stream",
     "text": [
      "['DS Yoshi Falls', 'GCN Mario Circuit', 'Wii Coconut Mall', 'Wii Daisy Circuit', \"Wii Wario's Gold Mine\"]\n"
     ]
    }
   ],
   "source": [
    "track_diff = [x for x in track_names if x not in tracks_inc]\n",
    "print(track_diff)"
   ]
  },
  {
   "cell_type": "code",
   "execution_count": 92,
   "metadata": {},
   "outputs": [
    {
     "name": "stdout",
     "output_type": "stream",
     "text": [
      "<class 'pandas.core.frame.DataFrame'>\n",
      "Int64Index: 32 entries, 0 to 31\n",
      "Data columns (total 5 columns):\n",
      " #   Column  Non-Null Count  Dtype \n",
      "---  ------  --------------  ----- \n",
      " 0   Track   32 non-null     object\n",
      " 1   AP      32 non-null     object\n",
      " 2   BT      32 non-null     object\n",
      " 3   R       32 non-null     object\n",
      " 4   Engine  32 non-null     object\n",
      "dtypes: object(5)\n",
      "memory usage: 1.5+ KB\n"
     ]
    }
   ],
   "source": [
    "testing.info()"
   ]
  },
  {
   "cell_type": "code",
   "execution_count": 91,
   "metadata": {},
   "outputs": [],
   "source": [
    "for track in track_diff:\n",
    "    testing.loc[len(testing.index)] = [track, '0', '3:00', '0', '150cc']"
   ]
  },
  {
   "cell_type": "code",
   "execution_count": null,
   "metadata": {},
   "outputs": [],
   "source": []
  }
 ],
 "metadata": {
  "interpreter": {
   "hash": "ff806b1f76a970c4dbf5ef15bacc13a53e5bd651933efa3473616668a30f3d02"
  },
  "kernelspec": {
   "display_name": "Python 3.9.7 ('appML')",
   "language": "python",
   "name": "python3"
  },
  "language_info": {
   "codemirror_mode": {
    "name": "ipython",
    "version": 3
   },
   "file_extension": ".py",
   "mimetype": "text/x-python",
   "name": "python",
   "nbconvert_exporter": "python",
   "pygments_lexer": "ipython3",
   "version": "3.9.7"
  },
  "orig_nbformat": 4
 },
 "nbformat": 4,
 "nbformat_minor": 2
}
